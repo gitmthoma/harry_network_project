{
 "cells": [
  {
   "cell_type": "markdown",
   "id": "9755e8e7",
   "metadata": {},
   "source": [
    "## Hands on the Data"
   ]
  },
  {
   "cell_type": "markdown",
   "id": "692aaa67",
   "metadata": {},
   "source": [
    "#### First Try\n",
    "Trying to import the data from .csv to .sqlite using pandas\n",
    "\n"
   ]
  },
  {
   "cell_type": "code",
   "execution_count": 2,
   "id": "31b1192b",
   "metadata": {},
   "outputs": [
    {
     "ename": "OperationalError",
     "evalue": "table hp1 already exists",
     "output_type": "error",
     "traceback": [
      "\u001b[1;31m---------------------------------------------------------------------------\u001b[0m",
      "\u001b[1;31mOperationalError\u001b[0m                          Traceback (most recent call last)",
      "\u001b[1;32m~\\AppData\\Local\\Temp/ipykernel_13848/2451369905.py\u001b[0m in \u001b[0;36m<module>\u001b[1;34m\u001b[0m\n\u001b[0;32m      4\u001b[0m \u001b[0mconnection\u001b[0m \u001b[1;33m=\u001b[0m \u001b[0msqlite3\u001b[0m\u001b[1;33m.\u001b[0m\u001b[0mconnect\u001b[0m\u001b[1;33m(\u001b[0m\u001b[1;34m'hp-dataset-sqlite.sqlite'\u001b[0m\u001b[1;33m)\u001b[0m\u001b[1;33m\u001b[0m\u001b[1;33m\u001b[0m\u001b[0m\n\u001b[0;32m      5\u001b[0m \u001b[0mcurs\u001b[0m \u001b[1;33m=\u001b[0m\u001b[0mconnection\u001b[0m\u001b[1;33m.\u001b[0m\u001b[0mcursor\u001b[0m\u001b[1;33m(\u001b[0m\u001b[1;33m)\u001b[0m\u001b[1;33m\u001b[0m\u001b[1;33m\u001b[0m\u001b[0m\n\u001b[1;32m----> 6\u001b[1;33m \u001b[0mcurs\u001b[0m\u001b[1;33m.\u001b[0m\u001b[0mexecute\u001b[0m\u001b[1;33m(\u001b[0m\u001b[1;34m'''CREATE table hp1 (movie, chapter, character, dialog)'''\u001b[0m\u001b[1;33m)\u001b[0m\u001b[1;33m\u001b[0m\u001b[1;33m\u001b[0m\u001b[0m\n\u001b[0m\u001b[0;32m      7\u001b[0m \u001b[1;33m\u001b[0m\u001b[0m\n\u001b[0;32m      8\u001b[0m \u001b[1;32mimport\u001b[0m \u001b[0mpandas\u001b[0m \u001b[1;32mas\u001b[0m \u001b[0mpd\u001b[0m\u001b[1;33m\u001b[0m\u001b[1;33m\u001b[0m\u001b[0m\n",
      "\u001b[1;31mOperationalError\u001b[0m: table hp1 already exists"
     ]
    }
   ],
   "source": [
    "Reading the contents of the hp1.csv file using dataframes\n",
    "import csv\n",
    "import sqlite3\n",
    "connection = sqlite3.connect('hp-dataset-sqlite.sqlite')\n",
    "curs =connection.cursor()\n",
    "curs.execute('''CREATE table hp1 (movie, chapter, character, dialog)''')\n",
    "\n",
    "import pandas as pd\n",
    "\n",
    "contents1 = pd.read_csv('hp1.csv')\n",
    "print(contents1)\n",
    "contents1.to_sql('hp1', connection, if_exists='replace', index=False)\n",
    "curs.close()"
   ]
  },
  {
   "cell_type": "code",
   "execution_count": 4,
   "id": "bcc1788b",
   "metadata": {},
   "outputs": [
    {
     "ename": "OperationalError",
     "evalue": "table hp2 already exists",
     "output_type": "error",
     "traceback": [
      "\u001b[1;31m---------------------------------------------------------------------------\u001b[0m",
      "\u001b[1;31mOperationalError\u001b[0m                          Traceback (most recent call last)",
      "\u001b[1;32m~\\AppData\\Local\\Temp/ipykernel_13848/788899088.py\u001b[0m in \u001b[0;36m<module>\u001b[1;34m\u001b[0m\n\u001b[0;32m      1\u001b[0m \u001b[0mconnection\u001b[0m \u001b[1;33m=\u001b[0m \u001b[0msqlite3\u001b[0m\u001b[1;33m.\u001b[0m\u001b[0mconnect\u001b[0m\u001b[1;33m(\u001b[0m\u001b[1;34m'hp-dataset-sqlite.sqlite'\u001b[0m\u001b[1;33m)\u001b[0m\u001b[1;33m\u001b[0m\u001b[1;33m\u001b[0m\u001b[0m\n\u001b[0;32m      2\u001b[0m \u001b[0mcurs\u001b[0m \u001b[1;33m=\u001b[0m\u001b[0mconnection\u001b[0m\u001b[1;33m.\u001b[0m\u001b[0mcursor\u001b[0m\u001b[1;33m(\u001b[0m\u001b[1;33m)\u001b[0m\u001b[1;33m\u001b[0m\u001b[1;33m\u001b[0m\u001b[0m\n\u001b[1;32m----> 3\u001b[1;33m \u001b[0mcurs\u001b[0m\u001b[1;33m.\u001b[0m\u001b[0mexecute\u001b[0m\u001b[1;33m(\u001b[0m\u001b[1;34m'''CREATE table hp2 (movie, chapter, character, dialog)'''\u001b[0m\u001b[1;33m)\u001b[0m\u001b[1;33m\u001b[0m\u001b[1;33m\u001b[0m\u001b[0m\n\u001b[0m\u001b[0;32m      4\u001b[0m \u001b[1;33m\u001b[0m\u001b[0m\n\u001b[0;32m      5\u001b[0m \u001b[1;32mimport\u001b[0m \u001b[0mpandas\u001b[0m \u001b[1;32mas\u001b[0m \u001b[0mpd\u001b[0m\u001b[1;33m\u001b[0m\u001b[1;33m\u001b[0m\u001b[0m\n",
      "\u001b[1;31mOperationalError\u001b[0m: table hp2 already exists"
     ]
    }
   ],
   "source": [
    "connection = sqlite3.connect('hp-dataset-sqlite.sqlite')\n",
    "curs =connection.cursor()\n",
    "curs.execute('''CREATE table hp2 (movie, chapter, character, dialog)''')\n",
    "\n",
    "import pandas as pd\n",
    "\n",
    "contents1 = pd.read_csv('hp2.csv')\n",
    "print(contents1)\n",
    "contents1.to_sql('hp2', connection, if_exists='replace', index=False)\n",
    "curs.close()"
   ]
  },
  {
   "cell_type": "code",
   "execution_count": 6,
   "id": "1629a44a",
   "metadata": {},
   "outputs": [
    {
     "name": "stdout",
     "output_type": "stream",
     "text": [
      "                                        movie                   chapter  \\\n",
      "0    Harry Potter and the Prisoner of Azkaban     Under Covers Prologue   \n",
      "1    Harry Potter and the Prisoner of Azkaban  Aunt Marge's Big Mistake   \n",
      "2    Harry Potter and the Prisoner of Azkaban  Aunt Marge's Big Mistake   \n",
      "3    Harry Potter and the Prisoner of Azkaban  Aunt Marge's Big Mistake   \n",
      "4    Harry Potter and the Prisoner of Azkaban  Aunt Marge's Big Mistake   \n",
      "..                                        ...                       ...   \n",
      "876  Harry Potter and the Prisoner of Azkaban              The Firebolt   \n",
      "877  Harry Potter and the Prisoner of Azkaban              The Firebolt   \n",
      "878  Harry Potter and the Prisoner of Azkaban              The Firebolt   \n",
      "879  Harry Potter and the Prisoner of Azkaban              The Firebolt   \n",
      "880  Harry Potter and the Prisoner of Azkaban              The Firebolt   \n",
      "\n",
      "              character                                             dialog  \n",
      "0          Harry Potter  Lumos Maxima. Lumos Maxima. Lumos Maxima. Lumo...  \n",
      "1       Petunia Dursley  Harry! Harry! Harry, open the door! Marge! How...  \n",
      "2          Harry Potter        Uncle Vernon, I need you to sign this form.  \n",
      "3        Vernon Dursley                                        What is it?  \n",
      "4          Harry Potter                             Nothing. School stuff.  \n",
      "..                  ...                                                ...  \n",
      "876         Ron Weasley                                      No one knows.  \n",
      "877    Hermione Granger                                 This came with it.  \n",
      "878  Neville Longbottom                                      Go on, Harry!  \n",
      "879     Seamus Finnigan                                   Yeah, let's see.  \n",
      "880    Hermione Granger                             How fast is it, Harry?  \n",
      "\n",
      "[881 rows x 4 columns]\n"
     ]
    }
   ],
   "source": [
    "connection = sqlite3.connect('hp-dataset-sqlite.sqlite')\n",
    "curs =connection.cursor()\n",
    "curs.execute('''CREATE table hp3 (movie, chapter, character, dialog)''')\n",
    "\n",
    "import pandas as pd\n",
    "\n",
    "contents1 = pd.read_csv('hp3.csv')\n",
    "print(contents1)\n",
    "contents1.to_sql('hp3', connection, if_exists='replace', index=False)\n",
    "curs.close()"
   ]
  },
  {
   "cell_type": "code",
   "execution_count": 7,
   "id": "1f994dbc",
   "metadata": {},
   "outputs": [
    {
     "name": "stdout",
     "output_type": "stream",
     "text": [
      "                                   movie           chapter  \\\n",
      "0    Harry Potter and the Gobelt of Fire  The Riddle House   \n",
      "1    Harry Potter and the Gobelt of Fire  The Riddle House   \n",
      "2    Harry Potter and the Gobelt of Fire  The Riddle House   \n",
      "3    Harry Potter and the Gobelt of Fire  The Riddle House   \n",
      "4    Harry Potter and the Gobelt of Fire  The Riddle House   \n",
      "..                                   ...               ...   \n",
      "736  Harry Potter and the Gobelt of Fire      Parting Ways   \n",
      "737  Harry Potter and the Gobelt of Fire      Parting Ways   \n",
      "738  Harry Potter and the Gobelt of Fire      Parting Ways   \n",
      "739  Harry Potter and the Gobelt of Fire      Parting Ways   \n",
      "740  Harry Potter and the Gobelt of Fire      Parting Ways   \n",
      "\n",
      "                   character  \\\n",
      "0                    Old man   \n",
      "1            Peter Pettigrew   \n",
      "2                  Voldemort   \n",
      "3    Bartemius Crouch Junior   \n",
      "4                  Voldemort   \n",
      "..                       ...   \n",
      "736         Hermione Granger   \n",
      "737             Harry Potter   \n",
      "738         Hermione Granger   \n",
      "739              Ron Weasley   \n",
      "740         Hermione Granger   \n",
      "\n",
      "                                                dialog  \n",
      "0                                         Bloody kids.  \n",
      "1    Oh no no no my Lord Voldemort. I only meant......  \n",
      "2    NO! The boy is everything, it cannot be done w...  \n",
      "3                   I will not disappoint you my lord.  \n",
      "4    Good. First, gather our old comrades. Send the...  \n",
      "..                                                 ...  \n",
      "736         Everything's going to change now isn't it?  \n",
      "737                                               Yes.  \n",
      "738     Promise you'll write this summer. Both of you.  \n",
      "739                    Well I won't. You know I won't!  \n",
      "740                              Harry will won't you?  \n",
      "\n",
      "[741 rows x 4 columns]\n"
     ]
    }
   ],
   "source": [
    "connection = sqlite3.connect('hp-dataset-sqlite.sqlite')\n",
    "curs =connection.cursor()\n",
    "curs.execute('''CREATE table hp4 (movie, chapter, character, dialog)''')\n",
    "\n",
    "import pandas as pd\n",
    "\n",
    "contents1 = pd.read_csv('hp4.csv')\n",
    "print(contents1)\n",
    "contents1.to_sql('hp4', connection, if_exists='replace', index=False)\n",
    "curs.close()"
   ]
  },
  {
   "cell_type": "code",
   "execution_count": 8,
   "id": "2ac55493",
   "metadata": {},
   "outputs": [
    {
     "name": "stdout",
     "output_type": "stream",
     "text": [
      "                                          movie               chapter  \\\n",
      "0     Harry Potter and the Order of the Phoenix       Dudley Demented   \n",
      "1     Harry Potter and the Order of the Phoenix       Dudley Demented   \n",
      "2     Harry Potter and the Order of the Phoenix       Dudley Demented   \n",
      "3     Harry Potter and the Order of the Phoenix       Dudley Demented   \n",
      "4     Harry Potter and the Order of the Phoenix       Dudley Demented   \n",
      "...                                         ...                   ...   \n",
      "1152  Harry Potter and the Order of the Phoenix  A way of coming back   \n",
      "1153  Harry Potter and the Order of the Phoenix  A way of coming back   \n",
      "1154  Harry Potter and the Order of the Phoenix  A way of coming back   \n",
      "1155  Harry Potter and the Order of the Phoenix  A way of coming back   \n",
      "1156  Harry Potter and the Order of the Phoenix  A way of coming back   \n",
      "\n",
      "             character                                             dialog  \n",
      "0       Dudley Dursley                                      Oh, it's you.  \n",
      "1            Gang thug                 What should we do with him, Big D?  \n",
      "2         Harry Potter  Big D? Cool name, but to me, you'll always be ...  \n",
      "3       Dudley Dursley                                           Shut up!  \n",
      "4       Dudley Dursley  Ooo, tough guy. Not so tough in your bed, are ...  \n",
      "...                ...                                                ...  \n",
      "1152      Harry Potter  I've been thinking about something Dumbledore ...  \n",
      "1153  Hermione Granger                                      What's that ?  \n",
      "1154      Harry Potter  That even though we've got a fight ahead of us...  \n",
      "1155       Ron Weasley                                             Yeah ?  \n",
      "1156      Harry Potter                       Something worth fighting for  \n",
      "\n",
      "[1157 rows x 4 columns]\n"
     ]
    }
   ],
   "source": [
    "connection = sqlite3.connect('hp-dataset-sqlite.sqlite')\n",
    "curs =connection.cursor()\n",
    "curs.execute('''CREATE table hp5 (movie, chapter, character, dialog)''')\n",
    "\n",
    "import pandas as pd\n",
    "\n",
    "contents1 = pd.read_csv('hp5.csv')\n",
    "print(contents1)\n",
    "contents1.to_sql('hp5', connection, if_exists='replace', index=False)\n",
    "curs.close()"
   ]
  },
  {
   "cell_type": "code",
   "execution_count": 9,
   "id": "ce7221c7",
   "metadata": {},
   "outputs": [
    {
     "name": "stdout",
     "output_type": "stream",
     "text": [
      "                                       movie           chapter  \\\n",
      "0     Harry Potter and the Half-Blood Prince  Snape's Visitors   \n",
      "1     Harry Potter and the Half-Blood Prince  Snape's Visitors   \n",
      "2     Harry Potter and the Half-Blood Prince  Snape's Visitors   \n",
      "3     Harry Potter and the Half-Blood Prince  Snape's Visitors   \n",
      "4     Harry Potter and the Half-Blood Prince  Snape's Visitors   \n",
      "...                                      ...               ...   \n",
      "1065  Harry Potter and the Half-Blood Prince            R.a.B.   \n",
      "1066  Harry Potter and the Half-Blood Prince            R.a.B.   \n",
      "1067  Harry Potter and the Half-Blood Prince            R.a.B.   \n",
      "1068  Harry Potter and the Half-Blood Prince            R.a.B.   \n",
      "1069  Harry Potter and the Half-Blood Prince            R.a.B.   \n",
      "\n",
      "                character                                             dialog  \n",
      "0     Bellatrix Lestrange                                          Narcissa!  \n",
      "1     Bellatrix Lestrange  Cissy! You mustn't do this.  He can't be trusted.  \n",
      "2         Narcissa Malfoy                          The Dark Lord trusts him.  \n",
      "3     Bellatrix Lestrange                         The Dark Lord is mistaken.  \n",
      "4     Bellatrix Lestrange                                   Or so I believe.  \n",
      "...                   ...                                                ...  \n",
      "1065         Harry Potter                 Funny, he says the same about you.  \n",
      "1066     Hermione Granger             Yes, but I'm exceptionally perceptive.  \n",
      "1067         Harry Potter                   You're brilliant.  You both are.  \n",
      "1068     Hermione Granger              Do you think we'll ever... come back?  \n",
      "1069         Harry Potter  I don’t know. I never realised how beautiful t...  \n",
      "\n",
      "[1070 rows x 4 columns]\n"
     ]
    }
   ],
   "source": [
    "connection = sqlite3.connect('hp-dataset-sqlite.sqlite')\n",
    "curs =connection.cursor()\n",
    "curs.execute('''CREATE table hp6 (movie, chapter, character, dialog)''')\n",
    "\n",
    "import pandas as pd\n",
    "\n",
    "contents1 = pd.read_csv('hp6.csv')\n",
    "print(contents1)\n",
    "contents1.to_sql('hp6', connection, if_exists='replace', index=False)\n",
    "curs.close()"
   ]
  },
  {
   "cell_type": "code",
   "execution_count": 10,
   "id": "b0f7a5af",
   "metadata": {},
   "outputs": [
    {
     "name": "stdout",
     "output_type": "stream",
     "text": [
      "                                            movie          chapter  \\\n",
      "0     Harry Potter and the Deathly Hallows Part 1       Dark Times   \n",
      "1     Harry Potter and the Deathly Hallows Part 1       Dark Times   \n",
      "2     Harry Potter and the Deathly Hallows Part 1       Dark Times   \n",
      "3     Harry Potter and the Deathly Hallows Part 1       Dark Times   \n",
      "4     Harry Potter and the Deathly Hallows Part 1       Dark Times   \n",
      "...                                           ...              ...   \n",
      "1007  Harry Potter and the Deathly Hallows Part 1  Sleeping Friend   \n",
      "1008  Harry Potter and the Deathly Hallows Part 1  Sleeping Friend   \n",
      "1009  Harry Potter and the Deathly Hallows Part 1  Sleeping Friend   \n",
      "1010  Harry Potter and the Deathly Hallows Part 1  Sleeping Friend   \n",
      "1011  Harry Potter and the Deathly Hallows Part 1  Sleeping Friend   \n",
      "\n",
      "             character                                             dialog  \n",
      "0     Rufus Scrimgeour  These are dark times, there is no denying.  Ou...  \n",
      "1         Mrs. Granger                Hermione.  Your tea is ready, dear.  \n",
      "2     Hermione Granger                                       Coming, Mum.  \n",
      "3         Mrs. Granger                Don't you look lovely.  All packed?  \n",
      "4          Mr. Granger        Are you sure these biscuits are sugar-free?  \n",
      "...                ...                                                ...  \n",
      "1007             Dobby                                      Harry Potter.  \n",
      "1008      Harry Potter  Dobby. Dobby. No, just-- Hold on. Hold on. Loo...  \n",
      "1009             Dobby  Such a beautiful place... ...to be with friend...  \n",
      "1010     Luna Lovegood  We should close his eyes. Don't you think? The...  \n",
      "1011      Harry Potter       I want to bury him. Properly. Without magic.  \n",
      "\n",
      "[1012 rows x 4 columns]\n"
     ]
    }
   ],
   "source": [
    "connection = sqlite3.connect('hp-dataset-sqlite.sqlite')\n",
    "curs =connection.cursor()\n",
    "curs.execute('''CREATE table hp7 (movie, chapter, character, dialog)''')\n",
    "\n",
    "import pandas as pd\n",
    "\n",
    "contents1 = pd.read_csv('hp7.csv')\n",
    "print(contents1)\n",
    "contents1.to_sql('hp7', connection, if_exists='replace', index=False)\n",
    "curs.close()"
   ]
  },
  {
   "cell_type": "code",
   "execution_count": 11,
   "id": "cfae9ac8",
   "metadata": {},
   "outputs": [
    {
     "name": "stdout",
     "output_type": "stream",
     "text": [
      "                                           movie               chapter  \\\n",
      "0    Harry Potter and the Deathly Hallows Part 2         Shell Cottage   \n",
      "1    Harry Potter and the Deathly Hallows Part 2         Shell Cottage   \n",
      "2    Harry Potter and the Deathly Hallows Part 2         Shell Cottage   \n",
      "3    Harry Potter and the Deathly Hallows Part 2         Shell Cottage   \n",
      "4    Harry Potter and the Deathly Hallows Part 2      Griphook's Price   \n",
      "..                                           ...                   ...   \n",
      "707  Harry Potter and the Deathly Hallows Part 2  Nineteen Years Later   \n",
      "708  Harry Potter and the Deathly Hallows Part 2  Nineteen Years Later   \n",
      "709  Harry Potter and the Deathly Hallows Part 2  Nineteen Years Later   \n",
      "710  Harry Potter and the Deathly Hallows Part 2  Nineteen Years Later   \n",
      "711  Harry Potter and the Deathly Hallows Part 2  Nineteen Years Later   \n",
      "\n",
      "         character                                             dialog  \n",
      "0    Luna Lovegood                               It's beautiful here.  \n",
      "1     Bill Weasley  It was our Aunt's. We used to come here as kid...  \n",
      "2    Luna Lovegood  Muggles think these keep evil away. But they'r...  \n",
      "3     Harry Potter                      I need to talk to the goblin.  \n",
      "4     Harry Potter                                       How are you?  \n",
      "..             ...                                                ...  \n",
      "707   Harry Potter  Then Slytherin House will have gained a wonder...  \n",
      "708   Albus Potter                                            Really?  \n",
      "709   Harry Potter                                            Really.  \n",
      "710   Harry Potter                                             Ready?  \n",
      "711   Albus Potter                                             Ready.  \n",
      "\n",
      "[712 rows x 4 columns]\n"
     ]
    }
   ],
   "source": [
    "connection = sqlite3.connect('hp-dataset-sqlite.sqlite')\n",
    "curs =connection.cursor()\n",
    "curs.execute('''CREATE table hp8 (movie, chapter, character, dialog)''')\n",
    "\n",
    "import pandas as pd\n",
    "\n",
    "contents1 = pd.read_csv('hp8.csv')\n",
    "print(contents1)\n",
    "contents1.to_sql('hp8', connection, if_exists='replace', index=False)\n",
    "curs.close()"
   ]
  },
  {
   "cell_type": "code",
   "execution_count": null,
   "id": "b3755830",
   "metadata": {},
   "outputs": [],
   "source": []
  }
 ],
 "metadata": {
  "kernelspec": {
   "display_name": "Python 3 (ipykernel)",
   "language": "python",
   "name": "python3"
  },
  "language_info": {
   "codemirror_mode": {
    "name": "ipython",
    "version": 3
   },
   "file_extension": ".py",
   "mimetype": "text/x-python",
   "name": "python",
   "nbconvert_exporter": "python",
   "pygments_lexer": "ipython3",
   "version": "3.8.12"
  }
 },
 "nbformat": 4,
 "nbformat_minor": 5
}
