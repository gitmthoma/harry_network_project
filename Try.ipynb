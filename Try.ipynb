{
 "cells": [
  {
   "cell_type": "code",
   "execution_count": null,
   "id": "f265aebf",
   "metadata": {},
   "outputs": [
    {
     "name": "stdout",
     "output_type": "stream",
     "text": [
      "[0.0, 0.0, -0.25625, 0.0, -0.20833333333333334, 0.15, -0.05, 0.0, 0.0, -0.3125, 0.0, 0.0, 0.21428571428571427, 0.0, 0.0, 0.25, 0.4, 0.0, 0.0, 0.0, 0.0, 0.0, 0.0, 0.0, 0.0, 0.0, -0.5, -0.2, 0.05, 0.0, -0.3, 0.1375, 0.0, 0.0, 0.0, 0.0, 0.0, 0.0, 0.0, -0.07083333333333335, 0.43333333333333335, 0.0, 0.0, -0.07999999999999999, -0.2666666666666666, 0.0, -0.2, 0.0]\n"
     ]
    }
   ],
   "source": [
    "import sqlite3\n",
    "import numpy as np\n",
    "import matplotlib.pyplot as plt\n",
    "import spacy\n",
    "from spacytextblob.spacytextblob import SpacyTextBlob\n",
    "\n",
    "nlp = spacy.load('en_core_web_sm')\n",
    "nlp.add_pipe(\"spacytextblob\")\n",
    "\n",
    "# connect notebook to db\n",
    "conn = sqlite3.connect('hp-dataset-with-relations.sqlite')\n",
    "c = conn.cursor()\n",
    "\n",
    "# define function to get sentiment of a table\n",
    "def calculate_sentiment(text):\n",
    "    analysed = [nlp(line) for line in text]\n",
    "    polarities = [l._.polarity for l in analysed]\n",
    "    assessments = [l._.assessments for l in analysed]\n",
    "    #return assessments\n",
    "    return polarities\n",
    "    \n",
    "\n",
    "# get namelist of all available views in database\n",
    "views = c.execute(\"SELECT tbl_name FROM sqlite_master where type='view'\").fetchall()\n",
    "views_names = [table[0] for table in views] \n",
    "views_names.remove('all_parts')\n",
    "\n",
    "# test single table\n",
    "sql = c.execute(\"SELECT dialog FROM harry_voldemort\").fetchall()  \n",
    "dialog = [i[0] for i in sql]\n",
    "res = calculate_sentiment(dialog)\n",
    "print(res)\n",
    "\n",
    "#print(sql)\n",
    "\n",
    "# call function with every view\n",
    "for table in views_names:\n",
    "    sql = c.execute(\"SELECT dialog FROM \" + table).fetchall()  \n",
    "    dialog = [i[0] for i in sql]\n",
    "    result = calculate_sentiment(dialog)\n",
    "    narr = np.array(result)\n",
    "    mean = np.mean(narr)\n",
    "    #print(table + ': || ' + str(mean) + ' ||' + str(result))\n",
    "    #plt.clf()\n",
    "    \n",
    "    plt.title(table + ' ' + str(mean))\n",
    "    x_axis = (-1, 1)\n",
    "    if table.startswith('harry'):\n",
    "        plt.hist(narr, range = x_axis, color='g')\n",
    "    else:\n",
    "        plt.hist(narr, range = x_axis, color='r')\n",
    "        \n",
    "    plt.savefig(table + '.jpg')"
   ]
  },
  {
   "cell_type": "code",
   "execution_count": null,
   "id": "5e5d31a8",
   "metadata": {},
   "outputs": [],
   "source": []
  }
 ],
 "metadata": {
  "kernelspec": {
   "display_name": "Python 3",
   "language": "python",
   "name": "python3"
  },
  "language_info": {
   "codemirror_mode": {
    "name": "ipython",
    "version": 3
   },
   "file_extension": ".py",
   "mimetype": "text/x-python",
   "name": "python",
   "nbconvert_exporter": "python",
   "pygments_lexer": "ipython3",
   "version": "3.8.8"
  }
 },
 "nbformat": 4,
 "nbformat_minor": 5
}
