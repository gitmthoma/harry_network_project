{
 "cells": [
  {
   "cell_type": "markdown",
   "id": "fc5da56b",
   "metadata": {},
   "source": [
    "# Python Einführung - Jupyter Notebook\n",
    "## Grundlagen der Cognitive Science\n",
    "### Seminar - 29.11.2020"
   ]
  },
  {
   "cell_type": "markdown",
   "id": "653d72e9",
   "metadata": {},
   "source": [
    "Dieses Notebook enthält allgemeine Programmierkonzepte und -prinzipien. Diese werden kurz erklärt und anhand von entsprechendem Code und Beispielen demonstriert und implementiert. Anschließend sollen sie in verschiedenen Übungsaufgaben selbst angewandt werden."
   ]
  },
  {
   "cell_type": "markdown",
   "id": "a13972a5",
   "metadata": {},
   "source": [
    "### 1. Imports\n",
    "Imports sind Einbindungen von Libraries und Packages, die danach genutzt gewerden können. Diese Einbindung dient dazu Zugriff auf die enthaltenen und \"vorimplementierten\" Methoden zu haben. Dies macht vieles einfacher und hilft dabei bestimmte Probleme besser lösen zu können. Numpy z.B. bietet Datenstrukturen und numerische Methoden, die häufig im Umgang mit Matrizen etc. hilfreich sind.\n",
    "\n",
    "Hier werden genutzte Importe über `import` eingeführt und können durch den Befehl `as` und die dann angefügte Abkürzung in diesem Fall `np` einfacher nutzbar gemacht werden. Es ist Konvention alle imports, die man im Notebook nutzt an den Anfang zu setzen, damit so alles direkt zu Beginn geladen werden kann. In Jupyter Notebooks setzt man am besten die imports auch in ihre eigene cell."
   ]
  },
  {
   "cell_type": "code",
   "execution_count": 1,
   "id": "d16b058a",
   "metadata": {},
   "outputs": [],
   "source": [
    "import numpy as np"
   ]
  },
  {
   "cell_type": "markdown",
   "id": "5348f7ab",
   "metadata": {},
   "source": [
    "### 2. Dokumentation und Kommentare\n",
    "\n",
    "Zur Erinnerung: um innerhalb des Codes bestimme Stellen zuerläutern, können/sollten Kommentare eingefügt werden. Diese können über # eingefügt werden und können im Folgenden gesehen werden - was im Code in Kommentaren steht wird nicht ausgeführt."
   ]
  },
  {
   "cell_type": "markdown",
   "id": "1494a096",
   "metadata": {},
   "source": [
    "### 3. Variablen\n",
    "Python hat verschiedene Arten von Variablen.\n",
    "\n",
    "* Zahlen: Ganzzahlen, lange Ganzzahlen, Fließkommazahlen (komplexe Zahlen - hier erstmal nicht relevant). Die Typen der Zahlen (int, float, etc.) müssen in Python nicht explizit deklariert werden bei der Erstellung von Variablen. Dies wird implizit gemacht und kann auch implizit wechseln. Beispiel: wenn `i = 10` (int) ist und dann wird `i = i + 0.1` gerechnet, dann wird diese direkt zu einer float. All dies muss aber nicht explizit festgeschrieben werden, sondern wird automatisch geändert.\n",
    "* Strings: sind text-variablen worin eine oder mehrere Textzeichen gespeichert sind, zum Biespiel einen ganzen Satz. In manche Fälle werden auch Zahlen als Strings ausgedruckt: `\"1\"` deutet zum Beispiel auf ein String `1` an und nicht die Zahl `1`. Das wechseln zwischen Strings und Zahlen geht aber nicht automatisch. Wichtig ist auch zu wissen das Zahlen und Strings sich beim gleichen Kommandos sich verschieden verhalten (zum Biespiel bei das `+` Kommando). In Python sind Strings immutable also nicht mehr veränderbar. Das heisst zum Beispiel das wenn ein String einmal definiert ist, mann nicht so einfach einzelen Zeichen innerhalbs des Strings durch ein anderes Zeichen ersetzen kann.\n",
    "* Datenstrukturen: Datastrukturen konnen mehr als nur einen Zahl oder String enthalten. Es gibt in Python verschiedene varianten (darüber unten mehr...). Natürlich werden auch die im kommenden beschriebenen Datenstrukturen mithilfe von Variablen benannt und gespeichert.\n",
    "\n",
    "Weitere Informationen zu den verschiedene Typen von Variablen in Python gibt es zum Beispiel [hier](https://www.python-kurs.eu/variablen.php)."
   ]
  },
  {
   "cell_type": "markdown",
   "id": "eb32e63c",
   "metadata": {},
   "source": [
    "* Character: ist eine einzige text-buchstabe/Zeichen.  In Python ist ein Character eigentlich nicht wirklich ein separates Variabletype sondern ein String mit Lenge eins (nur ein einziges Zeichen im String). Das ist aber nicht in jede Programmiersprache so deswegen hier kurz die separate Erwähnung."
   ]
  },
  {
   "cell_type": "markdown",
   "id": "debcc530",
   "metadata": {},
   "source": [
    "### 4. Datenstrukturen\n",
    "\n",
    "Datenstrukturen sind bestimmte Darstellungs-, Organisations- und Speicherarten für Elemente. Datenstrukturen (meist die selben wie z.B. Arrays oder Listen) gibt es in verschiedensten Programmiersprachen. Für Python sind vor allem die folgenden Datenstrukturen wichtig.\n",
    "\n",
    "#### 4.1. Listen\n",
    "\n",
    "Sammlung von Elementen, die erweitert werden kann durch Anfügen und Ersetzen/Ändern von Elementen. Hier können Duplikate enthalten sein und Listen können aneinander gehängt werden. Des Weiteren können Listen verschachtelt werden (also \"ineinandergehängt\" werden). Wichtigste Methoden sind:\n",
    "\n",
    "- append( ): erwartet ein Element und hängt dieses weitere Elemente (hinten) an die Liste\n",
    "- sort( ): sortiert die Liste\n",
    "- pop( ): erwartet eine Angabe zur Position in der Liste und entfernt das Element an der entsprechenden Stelle\n",
    "- remove( ): erwartet einen Wert und entfernt den angegebenen Wert aus der Liste\n",
    "\n",
    "Definierung erfolgt mit `[]` klammern.\n",
    "\n",
    "Weitere Eigenschaften und [Methoden](https://www.w3schools.com/python/python_lists_methods.asp) von Listen können z.B. [hier](https://www.w3schools.com/python/python_lists.asp) entnommen werden.\n",
    "\n",
    "\n",
    "#### 4.2. Dictionaries\n",
    "\n",
    "In Dictionaries können über \"keys\" bestimmte Werte, die dem key zugeordnet sind, gespeichert und entnommen werden. Elemente können eingefügt und entfernt werden. Dictionaries können ebenfalls verschachtelt werden, also Dictionaries können weitere Dictionaries oder Listen enthalten. Wichtige Methoden der Dictionaries sind z.B.:\n",
    "\n",
    "- get( ): erwartet einen key und holt den Wert des entsprechenden keys\n",
    "- pop( ): erwartet einen key und entfernt den Eintrag des entsprechenden keys\n",
    "\n",
    "Definierung erfolgt mit `{}` klammern und `key: value` combinationen: `{key: value}`.\n",
    "\n",
    "Weitere Eigenschaften und [Methoden](https://www.w3schools.com/python/python_dictionaries_methods.asp) von Dictionaries können z.B. [hier](https://www.w3schools.com/python/python_dictionaries.asp) entnommen werden.\n",
    "\n",
    "\n",
    "#### 4.3. Tuple\n",
    "\n",
    "Tuple sind ähnlich zur Liste und enthalten Werte. Anders als die Liste kann dem Tuple kein Element mehr hinzugefügt werden, da es unveränderbar ist. Außerdem können die in ihr enthaltenen Elemente nicht mehr verändert werden. Tuples haben nur die folgenden zwei Methoden:\n",
    "\n",
    "- count( ): zeigt wie viele Werte im entsprechenden Tuple enthalten sind\n",
    "- index( ): erwartet einen Wert und sucht die Stelle im Tuple raus an der dieser steht\n",
    "\n",
    "Definierung erfolgt mit `()` klammern\n",
    "\n",
    "Weitere Informationen zu Tuples können z.B. [hier](https://www.w3schools.com/python/python_tuples.asp) entnommen werden.\n",
    "\n",
    "#### 4.4. Set\n",
    "\n",
    "Sets sind ungeordnete Sammlungen an Werten, die *keine* Indizes haben. Zwar können im Set bereits enthaltene Werte nicht geändert werden, allerdings können neue, weitere Elemente hinzugefügt werden und auch wieder Elemente entfernt werden. Auch können Sets zusammengefügt werden. Sets können aber keine Duplikat Elemente enthalten. Wichtige Methoden sind z.B.:\n",
    "\n",
    "- add( ): erwartet ein Element und fügt dieses ins Set ein\n",
    "- update( ): erwartet ein Set oder Liste und combiniert dies mit den schon existierende Set\n",
    "- remove( ): erwartet ein Element und dieses wird aus den Set entfernt \n",
    "- intersection( ): gibt ein Set zurück, das die gemeinsamen Elemente zweier Sets enthält\n",
    "- issubset( ): zeigt, ob das Set ein Subset eines anderen ist \n",
    "- issuperset( ): zeigt, ob das Set ein Superset eines anderen ist\n",
    "\n",
    "Definierung erfolgt mit `{}` klammern.\n",
    "\n",
    "Weitere Eigenschaften und [Methoden](https://www.w3schools.com/python/python_sets_methods.asp) von Sets können z.B. [hier](https://www.w3schools.com/python/python_sets.asp) entnommen werden.\n",
    "\n",
    "\n",
    "Im Folgenden werden alle Datenstrukturen und eine kurze Erklärung der darin enthaltenen Elemente gezeigt.\n",
    "\n",
    "(Weitere Datenstrukturen wie beispielsweise (mehrdimensionale) Arrays, die in Sprachen wie Java beispielsweise direkt enthalten sind, werden in Python nur durch die Einbindung von Packages wie Numpy (siehe oben im import) möglich. Obwohl man mit Python-Listen auch alle Aufgaben eines Arrays übernehmen/ausführen kann und sie damit nicht absolut notwendig sind, kann es explizite Vorteile haben, weitere Datenstrukturen durch Packages einzubinden. Mehr dazu im nächsten Notebook.)"
   ]
  },
  {
   "cell_type": "code",
   "execution_count": 2,
   "id": "709937ec",
   "metadata": {},
   "outputs": [],
   "source": [
    "#Beispiel für eine Liste\n",
    "numbers = [3,17,2,66,8,11,35,-2,1,57,9,28,45,14,91,62,3,34,90]"
   ]
  },
  {
   "cell_type": "code",
   "execution_count": null,
   "id": "259c9e48",
   "metadata": {},
   "outputs": [],
   "source": [
    "#Beispiel für ein Dictionary\n",
    "\n",
    "#Einnahmen in mio. und Länge in min angegeben\n",
    "movies = { \n",
    "\n",
    "    \"The Dark Knight\": [[\"Jahr\", 2008], [\"Einnahmen\", 533.32],[\"Länge\", 152], \n",
    "                        [\"Genre\", (\"Action\", \"Crime\",\"Drama\")], [\"Rating\", 9.0]],\n",
    "    \"Inception\": [[\"Jahr\", 2010], [\"Einnahmen\", 292.57],[\"Länge\", 148], \n",
    "                        [\"Genre\", (\"Action\", \"Adventure\",\"Sci-Fi\")], [\"Rating\", 8.8]],\n",
    "    \"Dangal\": [[\"Jahr\", 2016], [\"Einnahmen\", 11.15],[\"Länge\", 161], \n",
    "                        [\"Genre\", (\"Action\", \"Biography\",\"Drama\")], [\"Rating\", 8.8]],\n",
    "    \"Interstellar\": [[\"Jahr\", 2014], [\"Einnahmen\", 187.99],[\"Länge\", 169], \n",
    "                        [\"Genre\", (\"Drama\", \"Adventure\",\"Sci-Fi\")], [\"Rating\", 8.6]],\n",
    "    \"Kimi no na wa\": [[\"Jahr\", 2016], [\"Einnahmen\", 4.68],[\"Länge\", 106], \n",
    "                        [\"Genre\", (\"Animation\", \"Drama\",\"Fantasy\")], [\"Rating\", 8.6]],\n",
    "    \"The Intouchables\": [[\"Jahr\", 2011], [\"Einnahmen\", 13.18],[\"Länge\", 112], \n",
    "                        [\"Genre\", (\"Biography\", \"Comedy\",\"Drama\")], [\"Rating\", 8.6]],\n",
    "    \"The Prestige\": [[\"Jahr\", 2006], [\"Einnahmen\", 53.08],[\"Länge\", 130], \n",
    "                        [\"Genre\", (\"Drama\", \"Mystery\",\"Sci-Fi\")], [\"Rating\", 8.5]],\n",
    "    \"The Departed\": [[\"Jahr\", 2006], [\"Einnahmen\", 132.37],[\"Länge\", 151], \n",
    "                        [\"Genre\", (\"Crime\", \"Drama\",\"Thriller\")], [\"Rating\", 8.5]],\n",
    "    \"The Dark Knight Rises\": [[\"Jahr\", 2012], [\"Einnahmen\", 448.13],[\"Länge\", 164], \n",
    "                        [\"Genre\", (\"Action\", \"Thriller\")], [\"Rating\", 8.5]],\n",
    "    \"Whiplash\": [[\"Jahr\", 2014], [\"Einnahmen\", 13.09],[\"Länge\", 107], \n",
    "                        [\"Genre\", (\"Drama\", \"Music\")], [\"Rating\", 8.5]]\n",
    "\n",
    "}"
   ]
  },
  {
   "cell_type": "code",
   "execution_count": null,
   "id": "cc60a6c5",
   "metadata": {},
   "outputs": [],
   "source": [
    "# Beispiel um mit get() die Information einer bestimmte Film heraus zu hohlen\n",
    "# get the info on a particular movie using get()\n",
    "movies.get(\"Whiplash\")"
   ]
  },
  {
   "cell_type": "markdown",
   "id": "7d1cc87f",
   "metadata": {},
   "source": [
    "### 5. Funktionen\n",
    "\n",
    "Funktionen gruppieren (zusammengehörige) Anweisungen, damit man sie sinnhaft abtrennt, mehrmals im Programm verwenden kann und leicht austauschbar macht. Funktionen können (fast) beliebig viele Parameter haben, also Elemente mit denen sie aufgerufen werden. Es können null Parameter von einer Funktion erwartet werden, oder verschieden viele von denen auch alle oder einige optional sein können. Sind optionale Parameter vorhanden, werden diese, sollten keine expliziten Werte hierfür beim Aufruf der Funktion übergeben werden, default Werte genutzt, die in der Funktion definiert sein müssen. \n",
    "\n",
    "In Python werden Funktionen über `def` gefolgt vom Funktionsnamen sowie entsprechenden Parametern in Klammern kenntlich gemacht. Ein Beispiel hierfür kann unten entnommen werden. Meistens (nicht immer) hat eine Funktion außerdem ein Rückgabewert, der nach den Operationen in der Methode zurückgegeben wird."
   ]
  },
  {
   "cell_type": "markdown",
   "id": "1e692b9c",
   "metadata": {},
   "source": [
    "#### 5.1. Funktionsvariationen \n",
    "\n",
    "Im Folgenden werden verschiedene Variationen von Funktionen sowie die Syntax mit der man sie aufstellt anhand von Beispielfunktionen präsentiert. Diese zeigen außerdem welche Parameter erwartet und übergeben werden. "
   ]
  },
  {
   "cell_type": "code",
   "execution_count": 3,
   "id": "cdccb11d",
   "metadata": {},
   "outputs": [],
   "source": [
    "#Methodenname = statement\n",
    "#Parameter = keine\n",
    "def statement():\n",
    "    print(\"Printing a statement.\")\n",
    "#hier gibt es keinen return"
   ]
  },
  {
   "cell_type": "code",
   "execution_count": 4,
   "id": "7551ada8",
   "metadata": {},
   "outputs": [
    {
     "name": "stdout",
     "output_type": "stream",
     "text": [
      "Printing a statement.\n"
     ]
    }
   ],
   "source": [
    "statement()"
   ]
  },
  {
   "cell_type": "code",
   "execution_count": null,
   "id": "fed47d02",
   "metadata": {},
   "outputs": [],
   "source": [
    "#Methodenname = add\n",
    "#Parameter = x und y (beide müssen übergeben werden)\n",
    "def add(x, y):\n",
    "    \n",
    "    #Rückgabewert = Summe der übergebenen Werte\n",
    "    return x + y"
   ]
  },
  {
   "cell_type": "code",
   "execution_count": null,
   "id": "9d3862ab",
   "metadata": {},
   "outputs": [],
   "source": [
    "print(add(2, 9))"
   ]
  },
  {
   "cell_type": "code",
   "execution_count": null,
   "id": "600a4323",
   "metadata": {},
   "outputs": [],
   "source": [
    "#Methodenname = subtract\n",
    "#Parameter = x und y (y ist optional)\n",
    "#wird kein Wert für y angegeben wird hier z.B. by default 5 abgezogen von der übergebenen Zahl\n",
    "def subtract(x, y=5):\n",
    "\n",
    "    #Rückgabewert = Differenz der übergebenen Werte\n",
    "    return x - y"
   ]
  },
  {
   "cell_type": "code",
   "execution_count": null,
   "id": "85843bda",
   "metadata": {},
   "outputs": [],
   "source": [
    "print(\"First result = \", subtract(10,9))\n",
    "print(\"Second result = \", subtract(10))"
   ]
  },
  {
   "cell_type": "markdown",
   "id": "ff95b2de",
   "metadata": {},
   "source": [
    "#### 5.2. Built-in Functions\n",
    "\n",
    "Bei Built-in Functions handelt es sich um Funktionen, die schon vorimplementiert sind und direkt in Python ausgeführt werden können. Diese Methoden erfüllen ganz bestimmte Aufgaben und benötigen entsprechende Parameter. Im folgenden werden einige der (sehr) nützlichen und oft verwendeten Build-in Functions mit ihren jeweiligen Aufgaben gelistet. Für zusätzliche Informationen zu den Funktionen können wie immer die interaktive Dokumentation aufgerufen werden oder [hier](https://docs.python.org/3/library/functions.html) entnommen werden. \n",
    "\n",
    "\n",
    "- print( ): Zeigt übergebenen Wert an. Sollen Strings angezeigt werden müssen \" oder ' um die entsprechenden Zeichen gesetzt werden; ansonsten können beispielsweise auch Variablenwerte oder Rückgaben von Funktionen ausgegeben und angezeigt werden.\n",
    "\n",
    "- len( ): Gibt die Länge des übergebenen Elements zurück. Kann also z.B. die Länge einer Liste anzeigen.\n",
    "\n",
    "- shape( ): Gibt die Form des übergebenen Elements zurück. Kann also z.B. die Dimensionen eines Arrays anzeigen.\n",
    "\n",
    "- range(start, **stop**, [step]): generiert quasi eine Liste an Zahlen, die bis zum angebenenen stop-Wert geht. Diese Liste wird am häufigsten genutzt um die Schritte in einer `for` Schleife durchzuiterieren. Der **fette** Wert `stop` ist ein Parameter der übergeben werden *muss*; die anderen wie der Startwert und die Schrittgröße steps sind optional. Wird für `start` kein Wert übergeben wird der default Wert 0 genutzt um die Zahlenliste zu beginnen; wird für `step` kein Wert übergeben, wird die jeweilige Zahl um 1 erhöht. Will man das die Zahlenliste anders beginnt oder in anderen Schrittgrößen hochgezählt wird, kann man dies über diese beiden Parameter anpassen. Ansonsten führt der Aufruf `range(5)` z.B. zu der folgenden Liste: [0,1,2,3,4] und kann genutzt werden um z.B. eine `for` Schleife 5 mal zu durchlaufen. ***Anmerkung:*** wird `range( )` mit z.B. eine 5 als Stopwert übergeben, ist die 5 selbst *nicht* enthalten!"
   ]
  },
  {
   "cell_type": "code",
   "execution_count": null,
   "id": "5e6ddff3",
   "metadata": {},
   "outputs": [],
   "source": [
    "# gibt die Lenge des oben definierte Liste numbers\n",
    "print(len(numbers))"
   ]
  },
  {
   "cell_type": "markdown",
   "id": "713be7d7",
   "metadata": {},
   "source": [
    "### 6. Bedingungen\n",
    "\n",
    "Bedingungen können bestimmte Fälle abfangen und Methoden(teile) unter bestimmte Umständen ausführen. So können z.B. logische Bedingungen abgefragt werden wie auch Verhältnisse oder Gleichheit. Dies kann über `if` und über das erweiterte `elif`, `else` Konstrukt erreicht werden. Mit `if` alleine kann man beispielsweise prüfen, ob eine Zahl größer als eine andere ist und dann die entsprechenden Anweisungen dazu ausführen. wird noch `else` hinzugefügt, wird der gegenteilige Fall ebenfalls mit einer anderen Anweisung abgefangen. Soll noch eine oder mehrere weitere Bedingungen abgefragt werden, können über diese über `elif` eingefügt werden. \n",
    "\n",
    "***Anmerkung:*** Die Werte boolscher Aussagenvariablen, die häufig für Bedingungen benötigt werden, müssen in Python groß geschrieben werden, also entweder `True` oder `False`."
   ]
  },
  {
   "cell_type": "code",
   "execution_count": null,
   "id": "3b63a1a7",
   "metadata": {},
   "outputs": [],
   "source": [
    "def isbigger(x,y):\n",
    "    \n",
    "    if x > y:\n",
    "        return True\n",
    "    else: \n",
    "        return False"
   ]
  },
  {
   "cell_type": "code",
   "execution_count": null,
   "id": "e8dc883b",
   "metadata": {},
   "outputs": [],
   "source": [
    "print(\"10 is bigger than 11? This is: \", isbigger(10,11))\n",
    "print(\"10 is bigger than 7? This is: \", isbigger(10,7))"
   ]
  },
  {
   "cell_type": "markdown",
   "id": "73b44991",
   "metadata": {},
   "source": [
    "### 7. Schleifen\n",
    "\n",
    "Um Operationen mehrfach auszuführen, sind Schleifen nötig. In Python gibt es zwei Typen von Schleifen. Eine ist die `for` Schleife und die `while` Schleife.\n",
    "Im Folgenden werden diese Variationen von Schleifen sowie die Syntax mit der man sie aufstellt anhand von Beispielen gezeigt."
   ]
  },
  {
   "cell_type": "markdown",
   "id": "69b0ae95",
   "metadata": {},
   "source": [
    "**7.1. for - Schleifen**\n",
    "\n",
    "`for` Schleifen in Python benötigen die Angabe einer Variable, die innerhalb eines Werte Bereichs (`range`) ist und in einer gewissen Schrittgröße voran schreiten kann. `for` Schleifen kann man nutzen um durch alle/bestimmte Elemente eines Arrays, einer Liste, usw. zu iterieren und die einzelnen Elemente zu nutzen um Befehle auf diesen auszuführen."
   ]
  },
  {
   "cell_type": "code",
   "execution_count": null,
   "id": "38355d44",
   "metadata": {},
   "outputs": [],
   "source": [
    "#Beispiel für eine Liste\n",
    "numbers = [3,17,2,66,8,11,35,-2,1,57,9,28,45,14,91,62,3,34,90]\n",
    "print(numbers)"
   ]
  },
  {
   "cell_type": "code",
   "execution_count": null,
   "id": "c69d1eee",
   "metadata": {},
   "outputs": [],
   "source": [
    "def squared(list_numbers):\n",
    "    \n",
    "    #start = 0, stop = 19 (hier Länge list_numbers bekannt; alternativ und besser len(list_numbers)), stepsize = 2\n",
    "    #stepsize 2 bedeutet das nur jedes zweite Element quadriert wird\n",
    "    #ist keine stepsize definiert wird der default Wert immer auf 1 gesetzt\n",
    "    for i in range(0,19,2):\n",
    "        list_numbers[i] = list_numbers[i]*list_numbers[i]\n",
    "        \n",
    "    return list_numbers"
   ]
  },
  {
   "cell_type": "code",
   "execution_count": null,
   "id": "8cd077a8",
   "metadata": {},
   "outputs": [],
   "source": [
    "print(squared(numbers))"
   ]
  },
  {
   "cell_type": "code",
   "execution_count": null,
   "id": "2887e7b6",
   "metadata": {},
   "outputs": [],
   "source": [
    "print(numbers)"
   ]
  },
  {
   "cell_type": "markdown",
   "id": "8913ed9b",
   "metadata": {},
   "source": [
    "**7.2. while - Schleifen**\n",
    "\n",
    "`while` hingegen führt die in ihr enthaltenen Befehle aus solange eine bestimmte Bedingung erfüllt ist. Ist die geprüfte Bedingung nach einer bestimmten Anzahl an Schritten nicht mehr `True`, so wird die Schleife beendet.\n",
    "Diese Art von Schleife kann genutzt werden, wenn z.B. nicht klar ist, wie viele Schritte benötigt werden bis das Ziel erreicht ist."
   ]
  },
  {
   "cell_type": "code",
   "execution_count": null,
   "id": "812b6f59",
   "metadata": {},
   "outputs": [],
   "source": [
    "def biggerList(list_numbers):\n",
    "    \n",
    "    while len(list_numbers) <= 25:\n",
    "        list_numbers.append(np.random.randint(3,10))"
   ]
  },
  {
   "cell_type": "code",
   "execution_count": null,
   "id": "457516d9",
   "metadata": {},
   "outputs": [],
   "source": [
    "biggerList(numbers)\n",
    "print(numbers)\n",
    "print(len(numbers))"
   ]
  },
  {
   "cell_type": "markdown",
   "id": "77eab504",
   "metadata": {},
   "source": [
    "### Beispiel \n",
    "\n",
    "Im Beispiel aus dem letzten Notebook, sind die oben genannten Aspekte und Konzepte enthalten. Es ist hier nochmal gezeigt und kommentiert."
   ]
  },
  {
   "cell_type": "code",
   "execution_count": null,
   "id": "66005d17",
   "metadata": {},
   "outputs": [],
   "source": [
    "def searchMax(input_numbers):\n",
    "    \n",
    "    #lokale Variable (kann nicht außerhalb der Methode aufgerufen werden - siehe nächste Zelle)\n",
    "    max_value = input_numbers[0]\n",
    "    \n",
    "    #for Schleife die mit 0 beginnt und bis Länge von input_numbers durch die Elemente in input_numbers iteriert\n",
    "    for i in range(len(input_numbers)):\n",
    "        \n",
    "        #Bedingung vergleicht ob das aktuelle Element in input_numbers größer ist als der bisherige Maximalwert\n",
    "        if max_value < input_numbers[i]:\n",
    "            #wenn das der Fall ist wird der Maximalwert nun auf diese neue Zahl gesetzt \n",
    "            max_value = input_numbers[i]\n",
    "            \n",
    "        #das if Statement braucht hier kein elif oder else Statement\n",
    "            \n",
    "    return max_value"
   ]
  },
  {
   "cell_type": "code",
   "execution_count": null,
   "id": "31fc229d",
   "metadata": {},
   "outputs": [],
   "source": [
    "print(searchMax(numbers))"
   ]
  },
  {
   "cell_type": "markdown",
   "id": "f2887498",
   "metadata": {},
   "source": [
    "### Aufgabe 1\n",
    "\n",
    "Schreibt eine Funktion, die eine gegebene Einheit und die entsprechende Gradzahl in eine andere Einheit umwandelt. Hier geht es spezifisch um eine Umrechnung von Celsius zu Fahrenheit und andersherum. \n",
    "Die Umrechnungsregeln, die genutzt werden, sind die folgenden:\n",
    "\n",
    "\n",
    "$$ °C = \\frac{(°F − 32)}{1.8} $$\n",
    "\n",
    "$$ °F = °C * 1.8 + 32 $$"
   ]
  },
  {
   "cell_type": "code",
   "execution_count": null,
   "id": "82d700c4",
   "metadata": {},
   "outputs": [],
   "source": []
  },
  {
   "cell_type": "markdown",
   "id": "ee63d37c",
   "metadata": {},
   "source": [
    "### Aufgabe 2\n",
    "\n",
    "Schreibt eine Funktion, welche die Fakultät einer übergebenen Zahl berechnet. "
   ]
  },
  {
   "cell_type": "code",
   "execution_count": null,
   "id": "eaddc203",
   "metadata": {},
   "outputs": [],
   "source": []
  },
  {
   "cell_type": "markdown",
   "id": "458d4676",
   "metadata": {},
   "source": [
    "### Aufgabe 3\n",
    "\n",
    "Im Dictionary `movies` sind die 10 Filme mit den höchsten Ratings auf imdb aus den Jahren 2006 bis 2016 enthalten (Stand: 2017). Jeder Titel ist als Key zufinden und zu jedem Film sind weitere zusätzliche Informationen in diesem Dictionary enthalten. Die folgenden Teilaufgaben beziehen sich auf die Informationen in diesem Dictionary."
   ]
  },
  {
   "cell_type": "markdown",
   "id": "9dc9747e",
   "metadata": {},
   "source": [
    "**3.1. Erscheinungsjahre**\n",
    "\n",
    "Schreibt eine Methode, welche die Filme nach Erscheinungsjahren aufsteigend sortiert (ältester Film zu erst, neuester Film zuletzt) und gibt den Filmtitel sowie das Erscheinungsjahr aus. "
   ]
  },
  {
   "cell_type": "code",
   "execution_count": null,
   "id": "8f5ef98e",
   "metadata": {},
   "outputs": [],
   "source": []
  },
  {
   "cell_type": "markdown",
   "id": "4f5bdda3",
   "metadata": {},
   "source": [
    "**3.2. Sortierung**\n",
    "\n",
    "Erweitert die obere Methode so, dass ihr auch aufsteigend nach Einnahmen und Ratings sortieren könnt."
   ]
  },
  {
   "cell_type": "code",
   "execution_count": null,
   "id": "f54d4bb3",
   "metadata": {},
   "outputs": [],
   "source": []
  },
  {
   "cell_type": "markdown",
   "id": "3a1e2c3b",
   "metadata": {},
   "source": [
    "**3.3. Genres**\n",
    "\n",
    "Schreibt eine Methode, welche ausgibt welche Genres enthalten sind und wie häufig diese vorkommen. Diese sollen nach Häufigkeit sortiert und mit der jeweiligen Häufigkeit zurückgegeben werden."
   ]
  },
  {
   "cell_type": "code",
   "execution_count": null,
   "id": "71d7f7b7",
   "metadata": {},
   "outputs": [],
   "source": []
  },
  {
   "cell_type": "markdown",
   "id": "b9fbd56b",
   "metadata": {},
   "source": [
    "**3.4. Ratings**\n",
    "\n",
    "Schreibt eine Methode, welche das Durchschnittsrating aller im Dictionary enthaltenen Filme zurückgibt."
   ]
  },
  {
   "cell_type": "code",
   "execution_count": null,
   "id": "50a8783e",
   "metadata": {},
   "outputs": [],
   "source": []
  },
  {
   "cell_type": "markdown",
   "id": "96895b85",
   "metadata": {},
   "source": [
    "**3.5. Aufteilung**\n",
    "\n",
    "Schreibt eine Methode, die in zwei Listen alle Filme, die vor 2010 erschienen sind zeigt und eine, die die restlichen Filme beinhaltet. "
   ]
  },
  {
   "cell_type": "code",
   "execution_count": null,
   "id": "18e17e91",
   "metadata": {},
   "outputs": [],
   "source": []
  }
 ],
 "metadata": {
  "kernelspec": {
   "display_name": "Python 3 (ipykernel)",
   "language": "python",
   "name": "python3"
  },
  "language_info": {
   "codemirror_mode": {
    "name": "ipython",
    "version": 3
   },
   "file_extension": ".py",
   "mimetype": "text/x-python",
   "name": "python",
   "nbconvert_exporter": "python",
   "pygments_lexer": "ipython3",
   "version": "3.8.12"
  }
 },
 "nbformat": 4,
 "nbformat_minor": 5
}
