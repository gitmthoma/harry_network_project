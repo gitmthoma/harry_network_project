{
 "cells": [
  {
   "cell_type": "markdown",
   "id": "405b0926",
   "metadata": {},
   "source": [
    "# Harry Potter and a Network Analysis\n",
    "\n",
    "## based on NER, Sentiment Analysis & Topic Modeling using SpaCy & Prodigy\n"
   ]
  },
  {
   "cell_type": "markdown",
   "id": "76784298",
   "metadata": {},
   "source": [
    "### What is Network Analysis & Why Network Analysis with Harry Potter?\n",
    "\n",
    "In terms of social network analysis, we want to understand it here as follows:\n",
    "\n",
    ">Network analysis can be considered as a set of techniques with a common methodological perspective that allow researchers to represent the relationships between actors and to analyze the social structures that result from the recurrence of these relationships. The basic assumption is that a better explanation of social phenomena is achieved by analyzing the relationships between actors. This analysis is done by collecting relationship data organized in the form of a matrix. When actors are represented as nodes and their relationships are represented as lines between pairs of nodes, the concept of a social network is transformed from a metaphor to an operational analytical tool that uses the mathematical language of graph theory and the linear assumptions of matrix algebra. (Chiesi 2015, 518)\n",
    "\n",
    "The forText digital research environment defines network analysis in the context of literary analysis and visualization as follows:\n",
    "\n",
    ">In network analysis, certain entities (e.g., figures, authors, places) are previously examined in their relationship to each other as a network of nodes and connecting edges or relations. In this way, quantitative aspects of the relational system, primarily the number of nodes, edges, and links, first become clear and can serve as the basis for a qualitative analysis. (Schumacher 2018)\n",
    "\n",
    "Our goal is to use natural language processing (NLP) and network analysis tools to **provide a representation of the social relationships of the main characters in the Harry Potter films**. Based on a database containing the dialog scripts of the eight films and various views created by queries, we first want to pre-select the characters (NER) and build up some plain text data. Then, based on the results of Sentiment Analysis and Topic Modeling, we want to map their relationships.\n",
    "\n",
    "We think that this approach could have **exemplary value for the analysis of more complex (fictional) social networks**. In particular, we can imagine that following such a basic consideration, especially the change of such relationships over time could be of interest for both film and literature or, for example, theatre studies. In this fields, for example, the comparison of certain patterns of relationships in certain periods, concerning certain authors, or certain genres might also be of interest.\n"
   ]
  },
  {
   "cell_type": "markdown",
   "id": "eeebec96",
   "metadata": {},
   "source": [
    "### What is SpaCy & What could we use it for?\n",
    "\n",
    "SpaCy is a free, open-source library for advanced Natural Language Processing (NLP) in Python. SpaCy is designed specifically for production use and helps you build applications that process and *understand* large volumes of text. It can be used to build information extraction or natural language understanding systems, or to pre-process text for deep learning.\n",
    "\n",
    "Among other things, SpaCy can be used for Tokenization, Part-of-Speech Tagging, Dependency Parsing, Rule-based Matching, training statistical models and Named Entity Recognition (NER).\n",
    "\n",
    "...\n",
    "\n"
   ]
  },
  {
   "cell_type": "markdown",
   "id": "37d77d70",
   "metadata": {},
   "source": [
    "### What is Prodigy & What could we use it for?\n",
    "\n",
    "Prodigy is a modern annotation tool for creating training and evaluation data for machine learning models. Prodigy is designed to help you inspect and clean your data, do error analysis and develop rule-based systems to use in combination with your statistical models. Among other things, Prodigy can be used for Span Categorization, Named Entity Recognition and Text Classification.\n",
    "\n",
    "...\n"
   ]
  },
  {
   "cell_type": "markdown",
   "id": "a1ab1fa2",
   "metadata": {},
   "source": [
    "### What is Named Entity Recognition (NER)?\n",
    "\n",
    "Named Entity Recognition (NER) is the task of automatically finding and tagging entities in a text and of identifying and catigorizing them. Possible entities are, for example: persons, locations, dates.\n",
    "\n",
    "#### Basic Python NER with SpaCy\n",
    "\n",
    "When working with NER, it is important to tell the model how to recognise the words that are to be marked as named entities. For this purpose, a pattern for labelling the data is defined, with which the model is trained to enable the most accurate recognition possible.\n",
    "\n",
    "Basic stepts include:\n",
    "\n",
    "1. Create match pattern for film characters\n",
    "2. Label data with help of the defined patterns \n",
    "3. Train temporary model\n",
    "4. Label more by correcting model\n",
    "5. Train a new and better model\n",
    "6. Run model\n",
    "\n",
    "[See: Training a NAMED ENTITY RECOGNITION MODEL with Prodigy and Transfer Learning](https://www.youtube.com/watch?v=59BKHO_xBPA)\n",
    "\n",
    "...\n",
    "\n",
    "#### Basic Python NER with SpaCy\n",
    "[Named Entity Recognition 101](https://spacy.io/usage/linguistic-features#named-entities)\n",
    "\n"
   ]
  },
  {
   "cell_type": "markdown",
   "id": "1eeae4e6",
   "metadata": {},
   "source": [
    "### What is Sentiment Analysis\n",
    "\n",
    "Sentiment analysis or Sentiment Detection is a subfield of text mining and refers to the automatic evaluation of texts with the goal of identifying an expressed attitude as positive, negative or neutral.\n",
    "\n",
    "#### Basic Python Sentiment Analysis with Prodigy\n",
    "\n",
    "Text classification models learn to assign one or more labels to text. You can use text classification over short pieces of text like sentences or headlines, or longer texts like paragraphs or even whole documents. \n",
    "Basic steps include:\n",
    "1. Training model for Harry Potter Sentiment Analysis\n",
    "2. Applying model on the moviescript Data\n",
    "\n",
    "...\n",
    "\n",
    "###### Basic Python Sentiment Analysis with Prodigy?\n",
    "\n",
    "[Sentiment Analysis Using SpaCy Pipelines](https://medium.com/mlearning-ai/ai-in-the-real-world-2-sentiment-analysis-using-spacy-pipelines-b39a2618d7c1)\n",
    "\n",
    "...\n"
   ]
  },
  {
   "cell_type": "markdown",
   "id": "756d6e35",
   "metadata": {},
   "source": [
    "### What is Topic Modeling?\n",
    "\n",
    "Topic modeling is a probability-based text-mining tool that is used to find \"topics\" by mapping frequent common occurrences of words in natural language texts. Words may belong to several topics.\n",
    "\n",
    "##### Basic Python Topic Modeling with Gensim\n",
    "\n",
    "In order to use topic modeling it is important to perpare the coprus. For this it is useful to create a manually annotated training and testing corpus. \n",
    "\n",
    "Basic steps include:\n",
    "* 1. Preparing our filmscripts based on the pre-selected characters (via NER) \n",
    "* 2. Cleaning, tokenizing and stemming the scripts\n",
    "* 3. Splitting the scripts into a training and a testing corpus\n",
    "* 4. Applying the Latent Dirichlet allocation (LDA) function\n",
    "* 5. Finding the dominant topic for each character\n",
    "* 6. Visualizing the relationship of dominant topics and relevance labels\n",
    "* 7. Classification of the entire corpus\n",
    "* 8. Creating uni-, bi- or trigram word clouds\n",
    "\n",
    "[See: Oberbichler, S., & Pfanzelter, E. Topic-specific corpus building: A step towards a representative newspaper corpus on the topic of return migration using text mining methods, in: Journal of Digital History, jdh001 (2021)](https://journalofdigitalhistory.org/en/article/4yxHGiqXYRbX#n103)\n",
    "\n",
    "...\n",
    "##### Basic Python Topic Modeling with Gensim?\n",
    "\n",
    "[Building a Topic Modeling Pipeline with SpaCy and Gensim](https://towardsdatascience.com/building-a-topic-modeling-pipeline-with-spacy-and-gensim-c5dc03ffc619)\n"
   ]
  },
  {
   "cell_type": "markdown",
   "id": "ec24c77c",
   "metadata": {},
   "source": [
    "### First Steps\n",
    "\n",
    "##### Project Idea and Structure\n",
    "\n",
    "##### Data\n",
    "\n",
    "##### Recap: Project Goals\n"
   ]
  },
  {
   "cell_type": "markdown",
   "id": "3ddcfafa",
   "metadata": {},
   "source": [
    "### Realization\n",
    "\n",
    "##### How to: Named Entity Recognition\n",
    "\n",
    "##### How to: Sentiment Analysis\n",
    "\n",
    "##### How to: Topic Modelling"
   ]
  },
  {
   "cell_type": "markdown",
   "id": "f7a44b59",
   "metadata": {},
   "source": [
    "### Visualization\n",
    "\n",
    "#### How to: Visualize Networks with Gephi\n",
    "\n",
    "[Gephi](https://gephi.org/)\n",
    "\n",
    "...\n",
    "\n",
    "#### How to: Visualize topics with Wordclouds\n",
    "\n",
    "...\n"
   ]
  },
  {
   "cell_type": "markdown",
   "id": "10ed7bfb",
   "metadata": {},
   "source": [
    "### Resumeé\n",
    "\n",
    "#### Future Options\n",
    "* timefactor\n",
    "\n",
    "...\n"
   ]
  },
  {
   "cell_type": "markdown",
   "id": "7e176831",
   "metadata": {},
   "source": [
    "#### Documentation\n",
    "\n",
    "1. Get Inspiration (Data, Purpose)\n",
    "2. Create GitHub Project\n",
    "3. Create Project Schedule (Milestones)\n",
    "4. Hands on Data (.csv to .sqlite?)\n",
    "5. Assign fundamentals (Merle: network analysis, sentiment analysis / Teresa: NER, topic modeling)\n",
    "6. Decision-Making: use Prodigy to train models?\n",
    "7. Create plain text data using SQLite DBBrowser\n",
    "8. Visualisation: Gephi? wordcloudtool?\n"
   ]
  },
  {
   "cell_type": "markdown",
   "id": "0cd1363d",
   "metadata": {},
   "source": [
    "#### Bibliography\n",
    "\n",
    "Antonio M. Chiesi: *Network Analysis* in: *International Encyclopedia of the Social & Behavioral Sciences* Edited by James D. Wright (2015: 518-523)\n",
    "\n",
    "Jan Horstmann: *Topic Modeling* on: https://fortext.net/routinen/methoden/topic-modeling (January 15, 2018) \n",
    "\n",
    "S. Oberbichler & E. Pfanzelter: *Topic-specific corpus building: A step towards a representative newspaper corpus on the topic of return migration using text mining methods.* in: Journal of Digital History, jdh001 https://journalofdigitalhistory.org/en/article/4yxHGiqXYRbX (2021)\n",
    "\n",
    "Mareike Schumacher: *Netzwerkanalyse* on: https://fortext.net/routinen/methoden/netzwerkanalyse (November 12, 2018)\n",
    "\n",
    "Mareike Schumacher: *Named Entity Recognition (NER)* on: https://fortext.net/routinen/methoden/named-entity-recognition-ner (May 17, 2018)\n",
    "\n",
    "\n"
   ]
  },
  {
   "cell_type": "markdown",
   "id": "d899cc71",
   "metadata": {},
   "source": [
    "#### EXTRA: Hands on Data - from csv. to SQLite\n",
    "\n",
    "Trying to import the data from .csv to .sqlite using dataframes (pandas)"
   ]
  },
  {
   "cell_type": "code",
   "execution_count": null,
   "id": "6c861d8b",
   "metadata": {},
   "outputs": [],
   "source": [
    "## Code"
   ]
  },
  {
   "cell_type": "markdown",
   "id": "504b3b2a",
   "metadata": {},
   "source": [
    "#### EXTRA: SQLite Queries?\n",
    "\n",
    "Task: Create plain text data to use for NER, training a sentiment analysis model & analyse topics by using gensim.\n",
    "\n",
    "How much do the character speak by length of dialog?\n",
    "* SELECT DISTINCT character from all_parts; 175 results\n",
    "* SELECT character, count(dialog) FROM all_parts GROUP BY character ORDER BY count(dialog)\n",
    "* SELECT character, sum(length(dialog)) AS dialogsum FROM all_parts GROUP BY character ORDER BY dialogsum DESC LIMIT 30\n",
    "\n",
    "\n",
    "* CREATE VIEW harry_albus AS SELECT * from all_parts WHERE character = \\\"Harry Potter\\\" AND dialog like '%Dumbledore%' OR dialog like '%Albus%'\n",
    "* CREATE VIEW albus_harry AS SELECT * from all_parts WHERE character = \\\"Albus Dumbledore\\\" AND dialog like '%Harry%' OR dialog like '%Potter%'\n"
   ]
  },
  {
   "cell_type": "code",
   "execution_count": null,
   "id": "bb75d374",
   "metadata": {},
   "outputs": [],
   "source": []
  }
 ],
 "metadata": {
  "kernelspec": {
   "display_name": "Python 3",
   "language": "python",
   "name": "python3"
  },
  "language_info": {
   "codemirror_mode": {
    "name": "ipython",
    "version": 3
   },
   "file_extension": ".py",
   "mimetype": "text/x-python",
   "name": "python",
   "nbconvert_exporter": "python",
   "pygments_lexer": "ipython3",
   "version": "3.8.8"
  }
 },
 "nbformat": 4,
 "nbformat_minor": 5
}
