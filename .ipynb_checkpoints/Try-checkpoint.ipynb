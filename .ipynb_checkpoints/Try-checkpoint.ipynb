{
 "cells": [
  {
   "cell_type": "code",
   "execution_count": 13,
   "id": "f265aebf",
   "metadata": {},
   "outputs": [
    {
     "name": "stdout",
     "output_type": "stream",
     "text": [
      "[('Voldemort?',), ('Me? Voldemort tried to kill...me?',), ('Do you mean to say...that that thing that killed the unicorn...that was drinking its blood...that was Voldemort?',), ('Voldemort.',), ('Does that mean, with the Stone gone, I mean, that Voldemort can never come back?',), ('Voldemort killed my parents. He was nothing more than a murderer.',), (\"Excuse me. Could you tell me what's going on here? Are you Tom Riddle?\",), (\"And they found it. Tom Riddle's diary is gone.\",), (\"Look, we have to ask you something. Do you know who's opened the Chamber of Secrets?\",), (\"Tom. Tom Riddle! What do you mean, 'she won't wake?' She's not…?\",), ('Why do you care how I escaped? Voldemort was after your time.',), (\"You! You're the Heir of Slytherin. You're Voldemort.\",), (\"It's just… You see, sir I- I couldn't help but notice certain things, certain- certain similarities, between Tom Riddle and me.\",), ('Voldemort transferred some of his powers… to me?',), ('Voldemort.',), ('I did think of Voldemort at first. But then I remembered that night on the train... and the dementor.',), ('No. Umm.. Voldemort was giving him a job to do. Something important.',), (\"It's just that I had a dream about him. It was in the summer, before school. In the dream I was in a house and Voldemort was there only he wasn't quite human, and Wormtail was there too and Mr Crouch's son.\",), (\"He's back, he's back! Voldemort's back. Cedric, he asked me to bring his body back. I couldn't leave him, not there.\",), (\"Professor, when I was in the graveyard there was a moment... um... when Voldemort's wand and mine sort of connected.\",), (\"Where's Voldemort? What's he doing?\",), ('What about Lord Voldemort?',), (\"I believe Voldemort's back because I fought him last year. Dumbledore's already told the school that. If you didn't believe him you won't believe anyone.\",), ('Voldemort can read minds?',), ('Voldemort.',), (\"Voldemort! He's got Sirius! In the Department of Mysteries!\",), (\"Voldemort's broken into the Department of Mysteries. He's got Sirius there!\",), (\"That's how Voldemort got in unnoticed.\",), ('Not really. How come Voldemort wants it?',), (\"Hey, did you know Voldemort's a half-blood too?\",), (\"How's Voldemort going to like that? You've failed him, and he's not very forgiving, is he?\",), ('He barely taught me, though. I always felt more open to it after the lessons. Like he was trying to open me to Voldemort—-',), (\"I've been dreaming about that all year, before Voldemort discovered the connection.\",), ('I asked you why Voldemort tried to kill me.',), (\"That even though we've got a fight ahead of us we've got one thing that Voldemort doesn't have.\",), ('Did Voldemort ever make the shelf, sir?',), (\"You knew him, didn't you, sir? Tom Riddle.  You were his teacher.\",), (\"Draco's plotting something, I know it, something to do with Voldemort.  He's been given a task or a mission -- and Snape was offering to help.\",), ('Did you say the same to Tom Riddle, sir?  When he came asking questions.',), (\"I mean, I'm sure you're tired of it, after all these years.  The questions.  About... Voldemort.\",), ('Because of her.  Because she sacrificed herself.  Because she refused to step aside.  Because her love was more powerful than Voldemort.',), ('Only I can kill him.  But in order to do so, I need to know what Tom Riddle asked you that night in your office all those years ago. And I need to know what you told him.',), (\"Tom Riddle's diary --\",), ('To the Dark Lord.  I know I will be dead long before you read this... I have stolen the real Horcrux and intend to destroy it...',), (\"Dumbledore had a theory.  He felt that the Horcruxes would not be made out of random objects.  And he felt they wouldn't be hidden randomly either.  We know of three so far.  The ring, which according to Dumbledore belonged to Tom Riddle's grandfather.  The diary, which belonged to Tom himself. And this, which -- again, according to Dumbledore -- belonged to his mother.\",), ('Tom Riddle --',), ('Ron, you once asked me if I thought he felt it -- Voldemort -- when we destroy a Horcrux, when we destroy a piece of his soul.',), (\"Voldemort's got the Elder Wand.\",)]\n"
     ]
    }
   ],
   "source": [
    "import sqlite3\n",
    "import numpy as np\n",
    "import matplotlib.pyplot as plt\n",
    "import spacy\n",
    "from spacytextblob.spacytextblob import SpacyTextBlob\n",
    "\n",
    "nlp = spacy.load('en_core_web_sm')\n",
    "nlp.add_pipe(\"spacytextblob\")\n",
    "\n",
    "# connect notebook to db\n",
    "conn = sqlite3.connect('hp-dataset-with-relations.sqlite')\n",
    "c = conn.cursor()\n",
    "\n",
    "# define function to get sentiment of a table\n",
    "def calculate_sentiment(text):\n",
    "    analysed = [nlp(line) for line in text]\n",
    "    polarities = [l._.polarity for l in analysed]\n",
    "    assessments = [l._.assessments for l in analysed]\n",
    "    return assessments\n",
    "    \n",
    "\n",
    "# get namelist of all available views in database\n",
    "views = c.execute(\"SELECT tbl_name FROM sqlite_master where type='view'\").fetchall()\n",
    "views_names = [table[0] for table in views] \n",
    "views_names.remove('all_parts')\n",
    "\n",
    "# test single table\n",
    "sql = c.execute(\"SELECT dialog FROM harry_voldemort\").fetchall()  \n",
    "dialog = [i[0] for i in sql]\n",
    "res = calculate_sentiment(dialog)\n",
    "#print(res)\n",
    "\n",
    "print(sql)\n",
    "\n",
    "# call function with every view\n",
    "#for table in views_names:\n",
    "    #sql = c.execute(\"SELECT dialog FROM \" + table).fetchall()  \n",
    "    #dialog = [i[0] for i in sql]\n",
    "    #result = calculate_sentiment(dialog)\n",
    "    \n",
    "    #narr = np.array(result)\n",
    "    #mean = np.mean(narr)\n",
    "    #print(table + ': || ' + str(mean) + ' ||' + str(result))\n",
    "    #plt.clf()\n",
    "    \n",
    "    #plt.title(table + ' ' + str(mean))\n",
    "    #x_axis = (-1, 1)\n",
    "    #if table.startswith('harry'):\n",
    "        #plt.hist(narr, range = x_axis, facecolor='g')\n",
    "    #else:\n",
    "        #plt.hist(narr, range = x_axis, facecolor='r')\n",
    "        \n",
    "    #plt.savefig(table + '.jpg')"
   ]
  },
  {
   "cell_type": "code",
   "execution_count": null,
   "id": "5e5d31a8",
   "metadata": {},
   "outputs": [],
   "source": []
  }
 ],
 "metadata": {
  "kernelspec": {
<<<<<<< HEAD
   "display_name": "Python 3 (ipykernel)",
=======
   "display_name": "Python 3",
>>>>>>> 455f20dc4dd21e82ba70fada6d8116259d063d7c
   "language": "python",
   "name": "python3"
  },
  "language_info": {
   "codemirror_mode": {
    "name": "ipython",
    "version": 3
   },
   "file_extension": ".py",
   "mimetype": "text/x-python",
   "name": "python",
   "nbconvert_exporter": "python",
   "pygments_lexer": "ipython3",
<<<<<<< HEAD
   "version": "3.8.12"
=======
   "version": "3.8.8"
>>>>>>> 455f20dc4dd21e82ba70fada6d8116259d063d7c
  }
 },
 "nbformat": 4,
 "nbformat_minor": 5
}
