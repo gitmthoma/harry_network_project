{
 "cells": [
  {
   "cell_type": "code",
   "execution_count": 4,
   "id": "47a24b4a",
   "metadata": {},
   "outputs": [],
   "source": [
    "import sqlite3\n",
    "import numpy as np\n",
    "import pandas as pd\n",
    "import networkx as nx\n",
    "import matplotlib.pyplot as plt\n",
    "import spacy\n",
    "from spacytextblob.spacytextblob import SpacyTextBlob"
   ]
  },
  {
   "cell_type": "code",
   "execution_count": 5,
   "id": "cfaafadf",
   "metadata": {},
   "outputs": [
    {
     "data": {
      "text/plain": [
       "<spacytextblob.spacytextblob.SpacyTextBlob at 0x16365fc6400>"
      ]
     },
     "execution_count": 5,
     "metadata": {},
     "output_type": "execute_result"
    }
   ],
   "source": [
    "nlp = spacy.load('en_core_web_sm')\n",
    "nlp.add_pipe(\"spacytextblob\")"
   ]
  },
  {
   "cell_type": "code",
   "execution_count": 6,
   "id": "27c9a606",
   "metadata": {},
   "outputs": [],
   "source": [
    "# connect notebook to db\n",
    "conn = sqlite3.connect('hp-dataset-with-relations.sqlite')\n",
    "c = conn.cursor()"
   ]
  },
  {
   "cell_type": "code",
   "execution_count": 7,
   "id": "7e8bc766",
   "metadata": {},
   "outputs": [],
   "source": [
    "# define function to get sentiment of a table\n",
    "def calculate_sentiment(text):\n",
    "    analysed = [nlp(line) for line in text]\n",
    "    polarities = [l._.polarity for l in analysed]\n",
    "    assessments = [l._.assessments for l in analysed]\n",
    "    #return assessments\n",
    "    return polarities\n",
    "    "
   ]
  },
  {
   "cell_type": "code",
   "execution_count": null,
   "id": "10ed8ec7",
   "metadata": {},
   "outputs": [],
   "source": []
  },
  {
   "cell_type": "code",
   "execution_count": 8,
   "id": "aa207ffc",
   "metadata": {},
   "outputs": [],
   "source": [
    "# get namelist of all available views in database\n",
    "views = c.execute(\"SELECT tbl_name FROM sqlite_master where type='view'\").fetchall()\n",
    "views_names = [table[0] for table in views] \n",
    "views_names.remove('all_parts')"
   ]
  },
  {
   "cell_type": "code",
   "execution_count": 9,
   "id": "c1a7bf35",
   "metadata": {},
   "outputs": [],
   "source": [
    "# test single table\n",
    "sql = c.execute(\"SELECT dialog FROM harry_voldemort\").fetchall()  \n",
    "dialog = [i[0] for i in sql]\n",
    "res = calculate_sentiment(dialog)\n",
    "#print(res)"
   ]
  },
  {
   "cell_type": "code",
   "execution_count": 10,
   "id": "c10f84b4",
   "metadata": {},
   "outputs": [],
   "source": [
    "graph = nx.Graph()"
   ]
  },
  {
   "cell_type": "code",
   "execution_count": null,
   "id": "7459af0c",
   "metadata": {},
   "outputs": [],
   "source": [
    "#call function with every view\n",
    "for table in views_names:\n",
    "    sql = c.execute(\"SELECT dialog FROM \" + table).fetchall()  \n",
    "    dialog = [i[0] for i in sql]\n",
    "    result = calculate_sentiment(dialog)\n",
    "    narr = np.array(result)\n",
    "    mean = np.mean(narr)\n",
    "    \n",
    "    plt.title(table + ' ' + str(mean))\n",
    "    x_axis = (-1, 1)\n",
    "    if table.startswith('harry'):\n",
    "        plt.hist(narr, range = x_axis, facecolor='g')\n",
    "    else:\n",
    "        plt.hist(narr, range = x_axis, facecolor='r')\n",
    "        \n",
    "    plt.savefig(table + '.jpg')"
   ]
  },
  {
   "cell_type": "code",
   "execution_count": 12,
   "id": "0ffcff81",
   "metadata": {},
   "outputs": [
    {
     "ename": "TypeError",
     "evalue": "add_node() takes 2 positional arguments but 3 were given",
     "output_type": "error",
     "traceback": [
      "\u001b[1;31m---------------------------------------------------------------------------\u001b[0m",
      "\u001b[1;31mTypeError\u001b[0m                                 Traceback (most recent call last)",
      "\u001b[1;32m~\\AppData\\Local\\Temp/ipykernel_12032/350194071.py\u001b[0m in \u001b[0;36m<module>\u001b[1;34m\u001b[0m\n\u001b[0;32m      9\u001b[0m             \u001b[0mgraph\u001b[0m\u001b[1;33m.\u001b[0m\u001b[0madd_node\u001b[0m\u001b[1;33m(\u001b[0m\u001b[0mtable\u001b[0m\u001b[1;33m,\u001b[0m\u001b[1;33m{\u001b[0m\u001b[1;34m\"color\"\u001b[0m\u001b[1;33m:\u001b[0m \u001b[1;34m\"green\"\u001b[0m\u001b[1;33m}\u001b[0m\u001b[1;33m)\u001b[0m\u001b[1;33m\u001b[0m\u001b[1;33m\u001b[0m\u001b[0m\n\u001b[0;32m     10\u001b[0m         \u001b[1;32melse\u001b[0m\u001b[1;33m:\u001b[0m\u001b[1;33m\u001b[0m\u001b[1;33m\u001b[0m\u001b[0m\n\u001b[1;32m---> 11\u001b[1;33m             \u001b[0mgraph\u001b[0m\u001b[1;33m.\u001b[0m\u001b[0madd_node\u001b[0m\u001b[1;33m(\u001b[0m\u001b[0mtable\u001b[0m\u001b[1;33m,\u001b[0m\u001b[1;33m{\u001b[0m\u001b[1;34m\"color\"\u001b[0m\u001b[1;33m:\u001b[0m \u001b[1;34m\"red\"\u001b[0m\u001b[1;33m}\u001b[0m\u001b[1;33m)\u001b[0m\u001b[1;33m\u001b[0m\u001b[1;33m\u001b[0m\u001b[0m\n\u001b[0m\u001b[0;32m     12\u001b[0m     \u001b[0mnx\u001b[0m\u001b[1;33m.\u001b[0m\u001b[0mdraw\u001b[0m\u001b[1;33m(\u001b[0m\u001b[0mgraph_labels\u001b[0m\u001b[1;33m=\u001b[0m\u001b[1;32mTrue\u001b[0m\u001b[1;33m,\u001b[0m \u001b[0mfont_weight\u001b[0m\u001b[1;33m=\u001b[0m\u001b[1;34m'bold'\u001b[0m\u001b[1;33m)\u001b[0m\u001b[1;33m\u001b[0m\u001b[1;33m\u001b[0m\u001b[0m\n",
      "\u001b[1;31mTypeError\u001b[0m: add_node() takes 2 positional arguments but 3 were given"
     ]
    }
   ],
   "source": [
    "#isualize relations as colored networkgraph\n",
    "for table in views_names:\n",
    "    sql = c.execute(\"SELECT dialog FROM \" + table).fetchall()  \n",
    "    dialog = [i[0] for i in sql]\n",
    "    result = calculate_sentiment(dialog)\n",
    "    narr = np.array(result)\n",
    "    mean = np.mean(narr)\n",
    "    if table.startswith('harry'):\n",
    "        if mean > 0:\n",
    "            graph.add_node(table,{\"color\": \"green\"})\n",
    "        else:\n",
    "            graph.add_node(table,{\"color\": \"red\"})\n",
    "    nx.draw(graph_labels=True, font_weight='bold')"
   ]
  },
  {
   "cell_type": "code",
   "execution_count": 37,
   "id": "5b96de8e",
   "metadata": {},
   "outputs": [],
   "source": [
    "#print(table + ': || ' + str(mean) + ' ||' + str(result))\n",
    "#plt.clf()"
   ]
  }
 ],
 "metadata": {
  "kernelspec": {
   "display_name": "Python 3 (ipykernel)",
   "language": "python",
   "name": "python3"
  },
  "language_info": {
   "codemirror_mode": {
    "name": "ipython",
    "version": 3
   },
   "file_extension": ".py",
   "mimetype": "text/x-python",
   "name": "python",
   "nbconvert_exporter": "python",
   "pygments_lexer": "ipython3",
   "version": "3.8.12"
  }
 },
 "nbformat": 4,
 "nbformat_minor": 5
}
