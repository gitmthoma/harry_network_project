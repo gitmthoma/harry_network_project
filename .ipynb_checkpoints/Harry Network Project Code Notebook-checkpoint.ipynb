{
 "cells": [
  {
   "cell_type": "markdown",
   "id": "14766bdf",
   "metadata": {},
   "source": [
    "### Imports"
   ]
  },
  {
   "cell_type": "code",
   "execution_count": null,
   "id": "3ed9e28f",
   "metadata": {},
   "outputs": [],
   "source": [
    "import sqlite3\n",
    "import numpy as np\n",
    "import pandas as pd\n",
    "import networkx as nx\n",
    "import matplotlib.pyplot as plt\n",
    "import spacy\n",
    "from spacytextblob.spacytextblob import SpacyTextBlob"
   ]
  },
  {
   "cell_type": "markdown",
   "id": "bd044ef9",
   "metadata": {},
   "source": [
    "### Spacy Language Model & Pipeline Configuration"
   ]
  },
  {
   "cell_type": "code",
   "execution_count": null,
   "id": "4a461924",
   "metadata": {},
   "outputs": [],
   "source": [
    "nlp = spacy.load('en_core_web_sm')\n",
    "nlp.add_pipe(\"spacytextblob\")"
   ]
  },
  {
   "cell_type": "markdown",
   "id": "9ee5a887",
   "metadata": {},
   "source": [
    "### DB Connection"
   ]
  },
  {
   "cell_type": "code",
   "execution_count": null,
   "id": "99caec30",
   "metadata": {},
   "outputs": [],
   "source": [
    "conn = sqlite3.connect('hp-dataset-with-relations.sqlite')\n",
    "c = conn.cursor()"
   ]
  },
  {
   "cell_type": "markdown",
   "id": "e2d32f63",
   "metadata": {},
   "source": [
    "# Sentiment Analysis"
   ]
  },
  {
   "cell_type": "code",
   "execution_count": null,
   "id": "7ebd20ee",
   "metadata": {},
   "outputs": [],
   "source": [
    "# define function to get sentiment of a table\n",
    "def calculate_sentiment(text):\n",
    "    analysed = [nlp(line) for line in text]\n",
    "    polarities = [l._.polarity for l in analysed]\n",
    "    assessments = [l._.assessments for l in analysed]\n",
    "    #return assessments\n",
    "    return polarities"
   ]
  },
  {
   "cell_type": "code",
   "execution_count": null,
   "id": "915851cb",
   "metadata": {},
   "outputs": [],
   "source": [
    "# get namelist of all available views in database\n",
    "views = c.execute(\"SELECT tbl_name FROM sqlite_master where type='view'\").fetchall()\n",
    "views_names = [table[0] for table in views] \n",
    "views_names.remove('all_parts')"
   ]
  },
  {
   "cell_type": "code",
   "execution_count": null,
   "id": "94e4cbb9",
   "metadata": {},
   "outputs": [],
   "source": [
    "# test single table\n",
    "sql = c.execute(\"SELECT dialog FROM harry_voldemort\").fetchall()  \n",
    "dialog = [i[0] for i in sql]\n",
    "res = calculate_sentiment(dialog)\n",
    "#print(res)"
   ]
  },
  {
   "cell_type": "code",
   "execution_count": null,
   "id": "05cd13fc",
   "metadata": {},
   "outputs": [],
   "source": [
    "#call function with every view\n",
    "for table in views_names:\n",
    "    sql = c.execute(\"SELECT dialog FROM \" + table).fetchall()  \n",
    "    dialog = [i[0] for i in sql]\n",
    "    result = calculate_sentiment(dialog)\n",
    "    narr = np.array(result)\n",
    "    mean = np.mean(narr)\n",
    "    \n",
    "    plt.title(table + ' ' + str(mean))\n",
    "    x_axis = (-1, 1)\n",
    "    if table.startswith('harry'):\n",
    "        plt.hist(narr, range = x_axis, facecolor='g')\n",
    "    else:\n",
    "        plt.hist(narr, range = x_axis, facecolor='r')\n",
    "        \n",
    "    #plt.savefig(table + '.jpg')\n",
    "#print(table + ': || ' + str(mean) + ' ||' + str(result))\n",
    "#plt.clf()"
   ]
  },
  {
   "cell_type": "code",
   "execution_count": null,
   "id": "0f92fb77",
   "metadata": {},
   "outputs": [],
   "source": [
    "#visualize relations as colored networkgraph -from Harry\n",
    "tab = pd.DataFrame(columns={'from': [], 'name':[], 'mean':[]})\n",
    "print(tab)\n",
    "for table in views_names:\n",
    "    sql = c.execute(\"SELECT dialog FROM \" + table).fetchall()  \n",
    "    dialog = [i[0] for i in sql]\n",
    "    result = calculate_sentiment(dialog)\n",
    "    narr = np.array(result)\n",
    "    mean = np.mean(narr)\n",
    "    if mean ==0 or mean <0 or mean >0:\n",
    "        if table.startswith('harry'):\n",
    "            tab.loc[len(tab.index)]=[\"H\", table, mean]"
   ]
  },
  {
   "cell_type": "code",
   "execution_count": null,
   "id": "1b49633f",
   "metadata": {},
   "outputs": [],
   "source": [
    "#visualize dataframe\n",
    "tab"
   ]
  },
  {
   "cell_type": "code",
   "execution_count": null,
   "id": "563bb977",
   "metadata": {},
   "outputs": [],
   "source": [
    "# visualize sentiments as colored networkgraph -from Harry\n",
    "G = nx.from_pandas_edgelist(tab, source='from', target='name', edge_attr='mean')\n",
    "colors = [\"black\", \"darkred\", \"lightgreen\", \"lightgreen\", \"darkred\", \"lightblue\", \"lightgreen\", \"darkred\", \"lightblue\", \"lightblue\", \"lightgreen\", \"lightblue\",\"darkred\", \"lightblue\",\"darkred\", \"lightblue\", \"lightblue\", \"lightblue\", \"lightgreen\", \"lightblue\", \"darkred\", \"lightgreen\", \"lightgreen\", \"darkred\", \"darkred\", \"darkred\", \"lightgreen\", \"darkred\"]\n",
    "weights = 1\n",
    "\n",
    "nx.draw_spring(G, with_labels=True, node_shape='*', node_color = colors, node_size = 1000, edge_color='black', font_color=\"black\")\n",
    "\n",
    "plt.title(\"SENTIMENTS FROM HARRY\")\n",
    "\n",
    "from matplotlib.pyplot import figure\n",
    "\n",
    "plt.show()"
   ]
  },
  {
   "cell_type": "code",
   "execution_count": null,
   "id": "199c177c",
   "metadata": {},
   "outputs": [],
   "source": [
    "#visualize relations as colored networkgraph -to Harry\n",
    "tab = pd.DataFrame(columns={'from': [], 'name':[], 'mean':[]})\n",
    "print(tab)\n",
    "for table in views_names:\n",
    "    sql = c.execute(\"SELECT dialog FROM \" + table).fetchall()  \n",
    "    dialog = [i[0] for i in sql]\n",
    "    result = calculate_sentiment(dialog)\n",
    "    narr = np.array(result)\n",
    "    mean = np.mean(narr)\n",
    "    if mean ==0 or mean <0 or mean >0:\n",
    "        if table.endswith('_harry'):\n",
    "            tab.loc[len(tab.index)]=[\"H\", table, mean]"
   ]
  },
  {
   "cell_type": "code",
   "execution_count": null,
   "id": "63b9f2c3",
   "metadata": {},
   "outputs": [],
   "source": [
    "tab"
   ]
  },
  {
   "cell_type": "code",
   "execution_count": null,
   "id": "3423324a",
   "metadata": {},
   "outputs": [],
   "source": [
    "#visualize relations as colored networkgraph -to Harry\n",
    "G=nx.from_pandas_edgelist(tab, source='from', target='name', edge_attr='mean')\n",
    "colors = [\"black\", \"lightgreen\", \"lightgreen\",\"lightgreen\", \"lightgreen\", \"lightgreen\", \"lightgreen\", \"lightgreen\", \"lightgreen\", \"lightblue\", \"lightgreen\", \"lightgreen\", \"lightgreen\",\"lightgreen\", \"lightgreen\",\"lightgreen\",\"lightgreen\",\"lightgreen\",\"lightgreen\",\"lightgreen\",\"lightgreen\",\"lightgreen\",\"lightgreen\",\"lightgreen\", \"darkred\", \"darkred\", \"lightgreen\", \"darkred\"]\n",
    "    \n",
    "nx.draw_spring(G, with_labels=True, node_shape='*', node_color = colors, node_size = 1000, edge_color='black', font_color=\"black\")\n",
    "plt.show()"
   ]
  },
  {
   "cell_type": "markdown",
   "id": "6276f802",
   "metadata": {},
   "source": [
    "## Topic Modeling"
   ]
  },
  {
   "cell_type": "code",
   "execution_count": null,
   "id": "27148628",
   "metadata": {},
   "outputs": [],
   "source": []
  }
 ],
 "metadata": {
  "kernelspec": {
   "display_name": "Python 3",
   "language": "python",
   "name": "python3"
  },
  "language_info": {
   "codemirror_mode": {
    "name": "ipython",
    "version": 3
   },
   "file_extension": ".py",
   "mimetype": "text/x-python",
   "name": "python",
   "nbconvert_exporter": "python",
   "pygments_lexer": "ipython3",
   "version": "3.8.8"
  }
 },
 "nbformat": 4,
 "nbformat_minor": 5
}
