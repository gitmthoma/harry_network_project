{
 "cells": [
  {
   "cell_type": "markdown",
   "id": "9894ee8a",
   "metadata": {},
   "source": [
    "# Python Einführung 3 - Jupyter Notebook\n",
    "\n",
    "## Grundlagen der Cognitive Science\n",
    "\n",
    "### Seminar - 06.12.2021"
   ]
  },
  {
   "cell_type": "markdown",
   "id": "89ef28b6",
   "metadata": {},
   "source": [
    "Dieses Notebook enthält Informationen und Übungsaufgaben für nützliche Libraries und Packages. Diese werden für verschiedene Programme und Anwendungen, die für uns interessant sind, genutzt und vereinfachen vieles. Entsprechender Code und Beispiele demonstrieren im Folgenden wie diese funktionieren."
   ]
  },
  {
   "cell_type": "markdown",
   "id": "da329cb4",
   "metadata": {},
   "source": [
    "Im allgemeine müssen Packages und Libraries immer zunächst eingebunden und importiert werden. Um dies zu tun wird das `import` Statement genutzt. Aus Konvention und zur Vereinfachung kann man zusätzlich Abkürzungen angeben mit denen man die entsprechend enthaltenen Funktionen aufrufen kann. Zum Beispiel ist `np` die konventionelle Abkürzung für Numpy, aber eigentlich können beliebige Abkürzungen gewählt werden.\n",
    "\n",
    "Des Weiteren können auch nur bestimmte Methoden aus Libraries importiert werden, wenn das erwünscht ist. "
   ]
  },
  {
   "cell_type": "code",
   "execution_count": 2,
   "id": "5cca8357",
   "metadata": {},
   "outputs": [],
   "source": [
    "import numpy as np \n",
    "import scipy \n",
    "from scipy.linalg import det #importiert Methode det "
   ]
  },
  {
   "cell_type": "markdown",
   "id": "b8a4fb3b",
   "metadata": {},
   "source": [
    "### NUMPY\n",
    "\n",
    "Numpy ist eine library, die mathematische und numerische Funktionen und Datenstrukturen bereit stellt. Numpy ermöglicht, dass diese Funktionalitäten integriert und effizient nutzbar werden. Beispielsweise, wird es so möglich in Python mit Arrays und Matrizen effizient zu rechnen und zu arbeiten. Dies vereinfacht besonders in daten-lastigen Bereichen (Data science und scientific computing) viele Anwendungen und macht diese schneller, einfacher und übersichtlicher. \n",
    "\n",
    "https://numpy.org/doc/stable/"
   ]
  },
  {
   "cell_type": "markdown",
   "id": "332481c7",
   "metadata": {},
   "source": [
    "### SCIPY\n",
    "\n",
    "SciPy ist eine Library, die auf Numpy aufbaut und dessen Leistungsfähigkeit durch weitere Funktionen, wie beispielsweise Minimierung, Regression, Fouriertransformation etc., erweitert. Scipy ist in sub-packages unterteilt, von denen auch nur entsprechend nötige importiert werden können statt alle.\n",
    "\n",
    "https://docs.scipy.org/doc/scipy/reference/"
   ]
  },
  {
   "cell_type": "markdown",
   "id": "8cf319d2",
   "metadata": {},
   "source": [
    "Die Nutzung dieser - und auch anderer - Erweiterungen vereinfacht viele Dinge. Natürlich muss man aber bei der Nutzung auch einiges beachten: \n",
    "\n",
    "- Um zu erfahren, wie die Datenstrukturen und Funktionen genutzt werden sollen/können, sollte die bereitgestellte Dokumentation genutzt werden. \n",
    "- Innerhalb solche Packages und Libraries gibt es oft auch wieder neue Datenstrukturen die sich anders verhalten als die Basic Python Datenstrukturen die wir letztes Mal gesehen haben.\n",
    "- Nutzt nur Funktionen von den ihr wisst, was sie wirklich tun (was wird da gemacht und welchen Output bekommt man)\n",
    "- Es kann hilfreich sein, extra Kommentare zu den aus libraries genutzen Funktionen hinzuzufügen, wenn diese nicht direkt eindeutig durch ihren Namen erkenntlich machen, was sie tun "
   ]
  },
  {
   "cell_type": "markdown",
   "id": "34a2bc3e",
   "metadata": {},
   "source": [
    "### Aufgabe 1\n",
    "\n",
    "Schreibt eine Funktion, die einen Würfelwurf simulieren kann. Der Würfel soll fair sein, d.h. alle möglichen Ereignisse (Zahlen 1,2,3,4,5,6) sollen gleich wahrscheinlich auftreten. **Hinweis:** Es gibt verschiedene Möglichkeiten, diese Aufgabe in Python mit NumPy zu lösen."
   ]
  },
  {
   "cell_type": "code",
   "execution_count": 29,
   "id": "6e709b3b",
   "metadata": {},
   "outputs": [
    {
     "name": "stdout",
     "output_type": "stream",
     "text": [
      "4\n"
     ]
    }
   ],
   "source": [
    "def cube():\n",
    "    return np.random.randint(1,7)\n",
    "\n",
    "print(cube())"
   ]
  },
  {
   "cell_type": "markdown",
   "id": "521fa8b2",
   "metadata": {},
   "source": [
    "### Aufgabe 2\n",
    "\n",
    "Gegeben ist das mehrdimensionale NumPy Array bzw. die Matrix `mat`. Mit diesem soll in den folgenden Aufgabenteilen gearbeitet werden."
   ]
  },
  {
   "cell_type": "markdown",
   "id": "00f3f6d0",
   "metadata": {},
   "source": [
    "**2.0. Indizes**\n",
    "\n",
    "Was passiert in den unten ausgeführten print Befehlen? Versuche dies zuerst direkt aus den Code zu lesen. Du kannst dann die Celle aktivieren um zu sehen ob der Ergebnis mit deine Erwartung übereinstimmt."
   ]
  },
  {
   "cell_type": "code",
   "execution_count": 30,
   "id": "d8ce135c",
   "metadata": {},
   "outputs": [
    {
     "name": "stdout",
     "output_type": "stream",
     "text": [
      "[[1 5 4]\n",
      " [3 7 9]\n",
      " [0 2 8]] \n",
      "\n",
      "[4 9 8]\n",
      "[1 3 0]\n",
      "[3 7 9]\n",
      "[1 5]\n"
     ]
    }
   ],
   "source": [
    "mat = np.array([[1,5,4],[3,7,9],[0,2,8]])\n",
    "\n",
    "print(mat, '\\n') # zeilenweise Ausgabe\n",
    "\n",
    "print(mat[:,-1])  # letzte Spalte\n",
    "print(mat[:,0])   # erste Spalte\n",
    "print(mat[1,:])   # zweite Zeile\n",
    "print(mat[0,:-1]) # erste Zeile bis zum vorletzten Element\n"
   ]
  },
  {
   "cell_type": "markdown",
   "id": "95bf51f2",
   "metadata": {},
   "source": [
    "**2.1. Dimensionen**\n",
    "\n",
    "Lasst euch die Dimensionen/Form, Größe sowie den Typ von `mat` ausgeben. **Hinweis:** Es gibt built-in Funktionen, die euch diese Werte ausgeben können."
   ]
  },
  {
   "cell_type": "code",
   "execution_count": 35,
   "id": "17f239a5",
   "metadata": {},
   "outputs": [
    {
     "name": "stdout",
     "output_type": "stream",
     "text": [
      "(3, 3)\n"
     ]
    },
    {
     "ename": "AttributeError",
     "evalue": "'numpy.ndarray' object has no attribute 'length'",
     "output_type": "error",
     "traceback": [
      "\u001b[1;31m---------------------------------------------------------------------------\u001b[0m",
      "\u001b[1;31mAttributeError\u001b[0m                            Traceback (most recent call last)",
      "\u001b[1;32m<ipython-input-35-01aadf9faeae>\u001b[0m in \u001b[0;36m<module>\u001b[1;34m\u001b[0m\n\u001b[0;32m      1\u001b[0m \u001b[0mprint\u001b[0m\u001b[1;33m(\u001b[0m\u001b[0mmat\u001b[0m\u001b[1;33m.\u001b[0m\u001b[0mshape\u001b[0m\u001b[1;33m)\u001b[0m\u001b[1;33m\u001b[0m\u001b[1;33m\u001b[0m\u001b[0m\n\u001b[1;32m----> 2\u001b[1;33m \u001b[0mprint\u001b[0m\u001b[1;33m(\u001b[0m\u001b[0mmat\u001b[0m\u001b[1;33m.\u001b[0m\u001b[0mlength\u001b[0m\u001b[1;33m)\u001b[0m\u001b[1;33m\u001b[0m\u001b[1;33m\u001b[0m\u001b[0m\n\u001b[0m\u001b[0;32m      3\u001b[0m \u001b[0mprint\u001b[0m\u001b[1;33m(\u001b[0m\u001b[0mmat\u001b[0m\u001b[1;33m.\u001b[0m\u001b[0mdtype\u001b[0m\u001b[1;33m)\u001b[0m\u001b[1;33m\u001b[0m\u001b[1;33m\u001b[0m\u001b[0m\n",
      "\u001b[1;31mAttributeError\u001b[0m: 'numpy.ndarray' object has no attribute 'length'"
     ]
    }
   ],
   "source": [
    "print(mat.shape)\n",
    "print(mat.dtype)"
   ]
  },
  {
   "cell_type": "markdown",
   "id": "824cd540",
   "metadata": {},
   "source": [
    "**2.2. Einzelne Zeilen und Spalten**\n",
    "\n",
    "Lasst euch zu erst die erste Spalte und dann die zweite Zeile von `mat` ausgeben. Lasst dann jeweils das letzte Element weg. Nutzt für diese Aufgabe die oben gezeigte Indizierung."
   ]
  },
  {
   "cell_type": "code",
   "execution_count": null,
   "id": "51badbce",
   "metadata": {},
   "outputs": [],
   "source": []
  },
  {
   "cell_type": "markdown",
   "id": "9d7a55bd",
   "metadata": {},
   "source": [
    "**2.3. Einzelne Elemente**\n",
    "\n",
    "Ändert das letzte Element der ersten Reihe von `mat` in eine 17 und das zweite Element der letzten Spalte in eine 13."
   ]
  },
  {
   "cell_type": "code",
   "execution_count": null,
   "id": "1f8acad6",
   "metadata": {},
   "outputs": [],
   "source": []
  },
  {
   "cell_type": "markdown",
   "id": "f4815fe2",
   "metadata": {},
   "source": [
    "**2.4. Erweiterung**\n",
    "\n",
    "Erweitert `mat` indem ihr eine komplette Spalte, die nur Elmente mit dem Wert 1 enthält, ganz vorne anhängt. **Hinweis:** Beispielsweise kann hier die built-in Funktion `hstack()` hilfreich sein."
   ]
  },
  {
   "cell_type": "code",
   "execution_count": null,
   "id": "3a63f06e",
   "metadata": {},
   "outputs": [],
   "source": []
  },
  {
   "cell_type": "markdown",
   "id": "3b70847a",
   "metadata": {},
   "source": [
    "**2.5. Matrixmultiplikation**\n",
    "\n",
    "Schreibt eine Funktion die zwei Matrizen mit einander multipliziert und dann die Ergebnismatrix zurückgibt. Erstellt hierfür eine weitere passende Matrix und multipliziert diese mit `mat`. "
   ]
  },
  {
   "cell_type": "code",
   "execution_count": null,
   "id": "058c8e60",
   "metadata": {},
   "outputs": [],
   "source": []
  },
  {
   "cell_type": "markdown",
   "id": "02bb9a48",
   "metadata": {},
   "source": [
    "**2.6. Zusammenfügen**\n",
    "\n",
    "Fügt die für die vorherige Aufgabe neu erstellte Matrix mit `mat` zusammen. Dabei sollen die Reihen der neuen Matrix denen von `mat` folgen."
   ]
  },
  {
   "cell_type": "code",
   "execution_count": null,
   "id": "7c379922",
   "metadata": {},
   "outputs": [],
   "source": []
  },
  {
   "cell_type": "markdown",
   "id": "cc875c4b",
   "metadata": {},
   "source": [
    "**2.7. Determinante**\n",
    "\n",
    "Schreibt eine eigene Funktion, welche die Determinante einer 3x3 Matrix berechnen kann und diese zurückgibt. Führt diese Funktion für `mat` aus (hierunter noch mal neu definiert falls die Werte von `mat` überschrieben worden sind). Hierzu kannst du den Regel von Sarrus benutzen.\n",
    "\n",
    "Wer Lust und Zeit hat, kann versuchen die Funktion zu veralgemeinen nach eine n x n Matrix. Dies ist eine gute Programmiererfahrung weil mann seine Funktionen oft in verschiedene Situationen einsetzen möchtte, ohne dabei mehrere Varianten definieren zu müssen. Hier wird Sarrus aber nich mehr funktionieren."
   ]
  },
  {
   "cell_type": "code",
   "execution_count": null,
   "id": "a626546b",
   "metadata": {},
   "outputs": [],
   "source": [
    "# definiere deine Funktion\n"
   ]
  },
  {
   "cell_type": "code",
   "execution_count": null,
   "id": "a2e11e7e",
   "metadata": {},
   "outputs": [],
   "source": [
    "mat = np.array([[1,5,4],[3,7,9],[0,2,8]])\n",
    "# setze hierunter den Abruf nach deine Funktion"
   ]
  },
  {
   "cell_type": "markdown",
   "id": "68864d46",
   "metadata": {},
   "source": [
    "### Aufgabe 3\n",
    "\n",
    "Schreibt eine Funktion, die testet ob das Ergebnis eurer eigenen Determinanten Funktion mit der importierten SciPy Methode `det` übereinstimmt und den entsprechenden boolschen Wert zurückgibt (es sollte True rauskommen)."
   ]
  },
  {
   "cell_type": "code",
   "execution_count": null,
   "id": "1e9bc895",
   "metadata": {},
   "outputs": [],
   "source": []
  }
 ],
 "metadata": {
  "kernelspec": {
   "display_name": "Python 3",
   "language": "python",
   "name": "python3"
  },
  "language_info": {
   "codemirror_mode": {
    "name": "ipython",
    "version": 3
   },
   "file_extension": ".py",
   "mimetype": "text/x-python",
   "name": "python",
   "nbconvert_exporter": "python",
   "pygments_lexer": "ipython3",
   "version": "3.8.8"
  }
 },
 "nbformat": 4,
 "nbformat_minor": 5
}
