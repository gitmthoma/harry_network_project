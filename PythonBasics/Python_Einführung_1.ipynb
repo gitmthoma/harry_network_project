{
 "cells": [
  {
   "cell_type": "markdown",
   "id": "76449983",
   "metadata": {},
   "source": [
    "# Python Einführung - Jupyter Notebooks\n",
    "\n",
    "## Grundlagen der Cognitive Science\n",
    "\n",
    "### Seminar - 22.11.2021"
   ]
  },
  {
   "cell_type": "markdown",
   "id": "a183e946",
   "metadata": {},
   "source": [
    "Diese Einführung dient als Beispiel wie ein Notebook aussehen könnte. Im Folgenden werden bestimmte Eigenschaften von Jupyter Notebooks sowie ein paar allgemeine Regeln, die für das Programmieren wichtig sind, erklärt und an Beispielen gezeigt."
   ]
  },
  {
   "cell_type": "markdown",
   "id": "dd8f203e",
   "metadata": {},
   "source": [
    "### Cells\n",
    "\n",
    "Die Notebooks sind in Zellen/Abschnitte (cells) eingeteilt. Diese können entweder mit Code oder Text gefüllt werden. Je nachdem ob in einer Cell programmiert oder nur geschrieben werden soll, muss die Zellart u.U. umgestellt werden. Soll programmiert werden muss die Zelle vom Typ \"Code\" sein. Soll Text in einer Zelle stehen, muss der Typ \"Markdown\" ausgewählt werden. Um Zellen zu bearbeiten müssen diese mit einem Doppelklick ausgewählt werden und können dann verändert werden. Danach sollten Zellen ausgeführt werden. Um dies zu tun, muss `ctrl-Enter` oder `shift-Enter` gedrückt werden (alternativ kann man natürlich auch in der Menüleiste unter Cell -> Run Cells auswählen). Diese Art von Shortcuts sind ziemlich praktisch und [hier](https://shortcutworld.com/Jupyter-Notebook/win/Jupyter-Notebook_Shortcuts) kann man eine ganze Liste finden (ist für Windows ausgeschrieben, aber die meisten funktionieren auch genauso für Linux oder Mac User).\n",
    "\n",
    "Das Bearbeiten und ausführen einer cell wird im Folgenden mehrfach verlangt, um sich mit den Zellenarten und deren Funktionen vertraut zu machen."
   ]
  },
  {
   "cell_type": "markdown",
   "id": "cda76d80",
   "metadata": {},
   "source": [
    "#### Text Cell\n",
    "Text cells wie diese (und auch die darüber), können **schön** formatierten Text darstellen. In diesen können auch HTML und $\\LaTeX$ Befehle und Formeln enthalten sein. Dies kann viele Vorteile haben. Muss zum Beispiel eine mathematische Formel dargestellt werden, kann diese auf diese Weise dargestellt werden:\n",
    "\n",
    "$$\n",
    "\\sum_{i=1}^{𝑛} i = \\frac{𝑛(𝑛+1)}{2}\n",
    "$$\n",
    "\n",
    "In Text cells können auch weitere hilfreiche Darstellung aufgeschrieben werden, wie beispielsweise Tabellen.\n",
    "\n",
    "|First Header| Second Header|\n",
    "|---|---|\n",
    "|Content Cell| Content Cell|\n",
    "|Content Cell| Content Cell|\n",
    "\n",
    "Wie es dazu kommt, dass die Formel, Tabelle und der Text in dieser Weise angezeigt wird, wird im Bearbeitungsmodus deutlich."
   ]
  },
  {
   "cell_type": "markdown",
   "id": "067d23c7",
   "metadata": {},
   "source": [
    "Hier findet ihr eine der wichtigsten Funktionen und Befehle aufgelistet. Weitere Hilfe und Information gibt es außerdem unter Help -> Markdown in der Menüleiste oben, sowie auf [dieser Seite](https://github.com/adam-p/markdown-here/wiki/Markdown-Here-Cheatsheet).\n",
    "\n",
    "* Mit # kann eine Überschrift erstellt werden\n",
    "* Mit mehreren # Zeichen können Unterüberschriften erstellt werden - desto mehr # Zeichen, desto kleiner wird die Überschrift\n",
    "* Soll Text fett sein, muss er mit ** umschlossen werden\n",
    "* Soll Text kursiv sein muss er mit * oder _ umschlossen werden\n",
    "* Mathematische Audrücke und Formeln müssen von \\\\$ umschlossen sein - wenn \\\\$$ genutzt wird erscheint die Formel zentriert in der Zelle\n",
    "* Die wichtigsten mathematischen Ausdrücke können hier entnommen werden: [LINK](https://de.wikipedia.org/wiki/Hilfe:TeX)\n",
    "* Links können mit [ ] oder \\[Bezeichnung\\](URL) eingefügt werden\n",
    "* Tabellen können mit - und | gebaut werden"
   ]
  },
  {
   "cell_type": "markdown",
   "id": "eb832f07",
   "metadata": {},
   "source": [
    "#### Code Cell\n",
    "Im Folgenden findet ihr eine Code Zelle. Diese soll ausgeführt werden (sehe oben: mit `Ctrl-Enter` oder `Shift-Enter`)."
   ]
  },
  {
   "cell_type": "code",
   "execution_count": 1,
   "id": "ada01849",
   "metadata": {},
   "outputs": [
    {
     "name": "stdout",
     "output_type": "stream",
     "text": [
      "this is a random number: 0.830089703049962\n"
     ]
    }
   ],
   "source": [
    "# import the numpy package.\n",
    "import numpy as np;\n",
    "\n",
    "# generate a random number that is stored in rand_num\n",
    "rand_num = np.random.rand();\n",
    "\n",
    "# print the random number to an output line\n",
    "print(\"this is a random number:\", rand_num);"
   ]
  },
  {
   "cell_type": "markdown",
   "id": "15c1bdcc",
   "metadata": {},
   "source": [
    "Ist die Zelle einmal ausgeführt, soll getestet werden, was passiert, wenn eine Zelle vom Typ Code in eine Markdown Zelle umgewandelt wird. Dies kann durch Auswahl der Zelle und anschließendem Umstellen in der Menüleiste erreicht werden.\n",
    "\n",
    "So wird beim Ausführen der Zelle nicht mehr der Code ausgeführt sondern dieser nur als Text dargestellt. Ändert man die Zelle wieder in Code (über die Menüleiste) um, wird der Code wieder ausgeführt."
   ]
  },
  {
   "cell_type": "markdown",
   "id": "abb40448",
   "metadata": {},
   "source": [
    "### State\n",
    "Der State wird über Zellen hinweg beibehalten. An der Seite jeder Code cell kann in eckigen Klammern eine Zahl gesehen werden - diese verweist auf die Ausführungsreihenfolge und gibt Aufschluss über den Zustand. Wenn eine Zelle nach der anderen ausgeführt wird und z.B. eine Variable der vorherigen Zelle in der nächsten genutzt wird, hat diese die entsprechenden Informationen über die Variable.\n",
    "\n",
    "Im obigen Bespiel heißt das folgendes: führt man zunächst die obere Code cell aus, wird eine beliebige Zahl generiert. Wird danach die untere Code cell ausgeführt, zeigt diese den Wert der oben bereits generierten Zahl. Möchte man also in der unteren Zelle eine neue beliebige Zahl anzeigen, muss hierfür die obere Zelle erneut ausgeführt werden und danach nochmal die untere. Wird die untere nicht nochmal ausgeführt, steht in ihrer Ausgabe noch der alte Wert der Variable.\n",
    "\n",
    "**Das heißt, dass die Reihenfolge in der die Cells ausgeführt werden entscheidend ist - und nicht deren Reihenfolge im Notebook!**"
   ]
  },
  {
   "cell_type": "code",
   "execution_count": 2,
   "id": "ea8f33f6",
   "metadata": {},
   "outputs": [
    {
     "name": "stdout",
     "output_type": "stream",
     "text": [
      "this is a random number: 0.830089703049962\n"
     ]
    }
   ],
   "source": [
    "print(\"this is a random number:\", rand_num);"
   ]
  },
  {
   "cell_type": "markdown",
   "id": "3eab5afd",
   "metadata": {},
   "source": [
    "### Kernel\n",
    "Der Kernel ist das, was den Code im Notebook ausführt. Beim Öffnen des Notebooks wird der Python Kernel gestartet. Dieser bearbeitet den geschriebenen Python Code und gibt die daraus folgenden Outputs zurück. So kann der Code in den Zellen ausgeführt werden. Es gibt drei Zustände die hierbei wichtig sind, die meist am Kreis rechts oben in der Ecke der Menüleiste abgelesen werden können:\n",
    "\n",
    "* Kernel ist bereit. Ist der Kreis leer, kann das Notebook/eine Zelle ausgeführt werden\n",
    "* Kernel ist beschäftigt. Bei Code und Methoden, die länger brauchen, kann der Kernel beschäftigt sein im Hintergrund ohne, dass man davon zunächst etwas mitbekommt. Dies erkennt man daran, dass der Kreis oben grau gefüllt ist. Hier muss gewartet werden. Hierzu noch ein Hinweis: sollte man (ungewollt) eine Endlosschleife geschrieben haben, die niemals zum Ende kommt, kann das auch dadurch deutlich werden, dass der Kernel sehr lange beschäftigt ist.\n",
    "* Kernel ist unterbrochen. Sollte es passieren, dass der Kernel beschäftigt ist, weil zum Beispiel eine solche Endlosschleife vorliegt oder ein Programm (aus welchen Gründen auch immer - da kann es einige geben) hängen bleibt, kann der Kernel unterbrochen werden. Dies kann über die Menüleiste über Kernel -> Interrupt erreicht werden. Dann kann er (nach entsprechenden Änderungen z.B. Entfernen der fehlerhaften Schleife) wieder gestartet werden über Restart (& Clear Output - wenn das gewollt ist)."
   ]
  },
  {
   "cell_type": "markdown",
   "id": "6b753385",
   "metadata": {},
   "source": [
    "### Dokumentation\n",
    "\n",
    "Ein sehr wichtiger Aspekt beim Programmieren, ist eine sinnvolle Dokumentation des Codes. Gerade hier eignen sich Jupyter Notebooks auch wieder sehr gut: ihr könnt ganze Textblöcke und Text cells einfügen, in den auch z.B. in denen im Code genutzte Formeln etc. beschrieben werden können. Außerdem könnt ihr in den code cells Kommentare einfügen (siehe unten). Solche in-code Kommentare werden vor allem dann wichtig wenn mann später mal volstandinge scripts schreibt die man im ganzen auf einmal komplet aktivieren möchtte, oder wenn man Code schreibt ausserhalb eine Jupyter umgebung wo man nicht diese Mischung aus Text und Code cells hat (das werden wir aber in diesen Kurs noch nicht machen). \n",
    "\n",
    "Dokumentation ist wichtig für alle die selbst Code schreiben, um ihren Code für sich und andere besser verständlich zu machen. Aber auch um den Code (libraries etc.) von anderen gut und sinnvoll nutzen zu können. \n",
    "\n",
    "Im folgenden gibt es ein weiteres Beispiel für eine Methode. In der code cell sind Kommentare eingefügt, die nicht nur erklären was an der entsprechenden Stelle passiert, sondern auch ein paar Hinweise und Tipps geben, an die ihr euch beim Programmieren halten solltet (sehe oben für ein weiteres Beispiel). Solche Kommentare können nützlich sein wenn mann spater noch Mal durch die eigene Code gehen möchtte um nochmal die Schritte nach zu gehen vor allem wenn ein Code vielleicht schon etwas complex wird."
   ]
  },
  {
   "cell_type": "code",
   "execution_count": 4,
   "id": "090e8e05",
   "metadata": {},
   "outputs": [],
   "source": [
    "# über das Einfügen von # können in code cells Kommentare eingefügt werden\n",
    "# diese Kommentare werden bei der Ausführung des Codes ignoriert und haben daher keinen Einfluss \n",
    "# auf die Funktionalität und können entsprechend an allen (gewünschten) Stellen eingefügt werden\n",
    "\n",
    "# list of numbers\n",
    "numbers = [17,2,3,66,8,11,35,-2,1,57,9,28,45,14,91,62,3,34,90]"
   ]
  },
  {
   "cell_type": "markdown",
   "id": "95784f65",
   "metadata": {},
   "source": [
    "### Interaktive Dokumentation\n",
    "Wie oben bereits erwähnt ist aber auch Dokumentation von anderen wichtig für euch. Ein hilfreiches und praktisches Feature in Jupyter (besonders für den Anfang) ist, dass man auch direkt auf die Dokumentation von Funktionen, Libraries und Methoden zugreifen kann. In einer Code cell können über verschiedene Aufrufe und Befehle so die wichtigsten Informationen eingeholt werden, die z.B. kurz beschreiben, was eine bereitgestellte Methode macht. Die folgenden Befehle können in der folgenden Code cell getestet werden:\n",
    "\n",
    "* np.*TAB(+option)* Hier wird eine Liste angezeigt, welche die Submodule und enthaltenen Funktionen des Numpy Pakets zeigt\n",
    "\n",
    "* np.random.rand? Wird dieser Befehl mit dem Fragezeichen ausgeführt (run cell) dann wird die Funktion rand(), die im Numpy Paket enthalten ist kurz erklärt. So erfährt man kurz was diese Funktion tut.\n",
    "\n",
    "* np.random.rand(*shift-TAB*. Dieser Befehl mit eine Klammer zeigt welche Argumente an diese Funktion übergeben werden müssen. Drückt man danach (mehrfach) shift-TAB wird der gesamte Docstring () angezeigt."
   ]
  },
  {
   "cell_type": "code",
   "execution_count": null,
   "id": "fe975840",
   "metadata": {},
   "outputs": [],
   "source": [
    "rand_num = np."
   ]
  },
  {
   "cell_type": "code",
   "execution_count": 20,
   "id": "7d1abdc2",
   "metadata": {},
   "outputs": [],
   "source": [
    "rand_num = np.random.rand?"
   ]
  },
  {
   "cell_type": "code",
   "execution_count": 22,
   "id": "4866782f",
   "metadata": {},
   "outputs": [],
   "source": [
    "rand_num = np.random.rand("
   ]
  },
  {
   "cell_type": "markdown",
   "id": "9055b35a",
   "metadata": {},
   "source": [
    "### Debugging\n",
    "Ein Rechner macht genau was ihm ihn sagt, auch wenn was man sagt nicht genau das war was man eigentlich wollte was der Rechner machen soll (i.e. den Code enthält einen sogenannten Bug). Manchmal gibt es dan einfach komische Werte und mann muss dan heraussuchen woher das kommt, aber wenn der Code wirklich fehlerhaft ist und der Rechner ein Commando nicht ausfuhren kann, kriegt man ein error message. Wenn man Code schreibt ist mann also oft auch am \"debuggen\". Dabei ist es wichtig the Fehlermeldung richtig zu lesen und auch das braucht Übung also keine Angst wenn man am Anfang sich damit noch nicht auskennt. Hierunten aber ein Beispiel.\n"
   ]
  },
  {
   "cell_type": "code",
   "execution_count": 5,
   "id": "295d405b",
   "metadata": {},
   "outputs": [
    {
     "ename": "TypeError",
     "evalue": "can only concatenate list (not \"int\") to list",
     "output_type": "error",
     "traceback": [
      "\u001b[1;31m---------------------------------------------------------------------------\u001b[0m",
      "\u001b[1;31mTypeError\u001b[0m                                 Traceback (most recent call last)",
      "\u001b[1;32m<ipython-input-5-1eda80eddda2>\u001b[0m in \u001b[0;36m<module>\u001b[1;34m\u001b[0m\n\u001b[0;32m      1\u001b[0m \u001b[1;31m# let's try to add the value 2 to all elements in the list numbers above and print it to an output line.\u001b[0m\u001b[1;33m\u001b[0m\u001b[1;33m\u001b[0m\u001b[1;33m\u001b[0m\u001b[0m\n\u001b[0;32m      2\u001b[0m \u001b[1;31m# you will see that this won't work and will get an error message\u001b[0m\u001b[1;33m\u001b[0m\u001b[1;33m\u001b[0m\u001b[1;33m\u001b[0m\u001b[0m\n\u001b[1;32m----> 3\u001b[1;33m \u001b[0mprint\u001b[0m\u001b[1;33m(\u001b[0m \u001b[0mnumbers\u001b[0m \u001b[1;33m+\u001b[0m \u001b[1;36m2\u001b[0m \u001b[1;33m)\u001b[0m\u001b[1;33m\u001b[0m\u001b[1;33m\u001b[0m\u001b[0m\n\u001b[0m",
      "\u001b[1;31mTypeError\u001b[0m: can only concatenate list (not \"int\") to list"
     ]
    }
   ],
   "source": [
    "# let's try to add the value 2 to all elements in the list numbers above and print it to an output line.\n",
    "# you will see that this won't work and will get an error message \n",
    "print( numbers + 2 )"
   ]
  },
  {
   "cell_type": "markdown",
   "id": "ada66cc0",
   "metadata": {},
   "source": [
    "Was lief da schief? In Python heist +2 nicht einfach alle Elemente mit 2 aufstocken aber versucht stattdessen die Nummer 2 am Ende der Liste hinzuzufugen (das ist was `Concatenate` heisst). Es gibt hier einen hinweis das wir vielleicht nicht die richtige Datenstruktur haben (über Datenstrukturen im Nächsten Seminar mehr). Die richtige Lösung folgt hierunten mit Benutzung des Numpy pakets."
   ]
  },
  {
   "cell_type": "code",
   "execution_count": 6,
   "id": "d62758c6",
   "metadata": {},
   "outputs": [
    {
     "name": "stdout",
     "output_type": "stream",
     "text": [
      "[19  4  5 68 10 13 37  0  3 59 11 30 47 16 93 64  5 36 92]\n"
     ]
    }
   ],
   "source": [
    "# convertiere die Liste in einen numpy array\n",
    "numbers_array = np.array(numbers)\n",
    "print( numbers_array + 2 )"
   ]
  },
  {
   "cell_type": "markdown",
   "id": "cf3e47d2",
   "metadata": {},
   "source": [
    "#### Tipps und Hinweise zum Programmieren\n",
    "\n",
    "*Tipp 1: Schreibt sauberen und übersichtlichen Code!* Das bedeutet, die gesamte Struktur und der Aufbau sowie die genutzten Elemente sinnvoll genutzt werden. Insgesamt sollte auf gute Übersichtlichkeit geachtet werden. Wenn ihr Python in Jupyter Notebooks nutzt, spielt auch die richtige Einrückung eine wichtige Rolle! Nicht nur für die Übersichtlichkeit, sondern dafür, dass euer Code läuft - und zwar wie geplant. Also achtet immer streng auf die Einrückung!\n",
    "\n",
    "*Tipp 2: Nutzt sinnvolle und aussagekräftige Variablennamen.* Der Name der Variable sollte nicht einfach nur 'a' sein sondern sollte zeigen, was in ihr gespeichert wird, z.B. rand_num (für random number)\n",
    "\n",
    "*Tipp 3: Genau das Gleiche gilt für Methodennamen.*\n",
    "\n",
    "*Tipp 4: (Unnötige) Code Doppelungen sollten vermieden werden.* Merkt ihr, dass ihr das ihr Code aus einer Zelle in die nächste kopieren möchtet, solltet ihr euch Gedanken machen, ob es nicht eine bessere Lösung für das Problem gibt. Dies kommt mit der Zeit und Übung.\n",
    "\n",
    "*Tipp 5: Dokumentiert euren Code immer gut!* Auch wenn ihr sowieso darauf achtet, klaren Code zu schreiben, ist es dennoch wichtig Kommentare sinnvoll einzusetzen. Das macht nicht nur alles einfacher für andere (wie uns), die euren Code lesen, nachvollziehen und verstehen müssen, sondern auch für euch. Wenn ihr kommentiert, was und wieso ihr etwas in eurem Code so gemacht habt, könnt auch ihr, wenn ihr später wieder darauf schaut, auch alles besser nachvollziehen."
   ]
  },
  {
   "cell_type": "code",
   "execution_count": 6,
   "id": "4895ca3c",
   "metadata": {},
   "outputs": [],
   "source": [
    "# Methodenname sagt schon direkt etwas über dessen Funktion aus 'search' sagt mir, dass etwas gesucht wird\n",
    "# 'max' kann mir einen Hinweis darauf geben, dass es hier um ein Maximum/maximaler Wert geht.\n",
    "# Über den Argumentsnamen 'input_numbers' weiß ich auch, dass hier mehrere Zahlen in die Methode gegeben werden\n",
    "def searchMax(input_numbers):\n",
    "    \n",
    "    # initialisiere max_value mit den Ersten Zahl aus der Liste (angezeigt mit index 0).\n",
    "    # Variablenname auch entsprechend gewählt\n",
    "    max_value = input_numbers[0]\n",
    "    \n",
    "    # eine Schleife um durch die Liste zu gehen\n",
    "    for i in range(len(input_numbers)):\n",
    "        # wenn ein größeren wert gefunden wird ersetze max_value\n",
    "        if max_value < input_numbers[i]:\n",
    "            max_value = input_numbers[i]\n",
    "            \n",
    "    # sorge das die Methode der größte Zahl auch ausspukt/zurück gebt         \n",
    "    return max_value"
   ]
  },
  {
   "cell_type": "code",
   "execution_count": 7,
   "id": "f4368813",
   "metadata": {},
   "outputs": [
    {
     "name": "stdout",
     "output_type": "stream",
     "text": [
      "Die größte Zahl ist =  91\n"
     ]
    }
   ],
   "source": [
    "print('Die größte Zahl ist = ', searchMax(numbers))"
   ]
  },
  {
   "cell_type": "markdown",
   "id": "75fa198e",
   "metadata": {},
   "source": [
    "### Erste Beispielaufgabe\n",
    "\n",
    "Schreibt eine Methode, die statt die größte, die kleinste Zahl zurückgibt. Orientiert euch an der obigen Methode. Achtet dabei auf sinnvolle Variablen- und Methodennamen und zeigt die Methodenausgaben sinnvoll an. "
   ]
  },
  {
   "cell_type": "code",
   "execution_count": null,
   "id": "4b15eeda",
   "metadata": {},
   "outputs": [],
   "source": [
    "# Methodenname sagt schon direkt etwas über dessen Funktion aus 'search' sagt mir, dass etwas gesucht wird\n",
    "# 'max' kann mir einen Hinweis darauf geben, dass es hier um ein Maximum/maximaler Wert geht.\n",
    "# Über den Argumentsnamen 'input_numbers' weiß ich auch, dass hier mehrere Zahlen in die Methode gegeben werden\n",
    "def searchMin(input_numbers):\n",
    "    \n",
    "    # initialisiere max_value mit den Ersten Zahl aus der Liste (angezeigt mit index 0).\n",
    "    # Variablenname auch entsprechend gewählt\n",
    "    max_value = input_numbers[0]\n",
    "    \n",
    "    # eine Schleife um durch die Liste zu gehen\n",
    "    for i in range(len(input_numbers)):\n",
    "        # wenn ein größeren wert gefunden wird ersetze max_value\n",
    "        if max_value < input_numbers[i]:\n",
    "            max_value = input_numbers[i]\n",
    "            \n",
    "    # sorge das die Methode der größte Zahl auch ausspukt/zurück gebt         \n",
    "    return max_value"
   ]
  }
 ],
 "metadata": {
  "kernelspec": {
   "display_name": "Python 3",
   "language": "python",
   "name": "python3"
  },
  "language_info": {
   "codemirror_mode": {
    "name": "ipython",
    "version": 3
   },
   "file_extension": ".py",
   "mimetype": "text/x-python",
   "name": "python",
   "nbconvert_exporter": "python",
   "pygments_lexer": "ipython3",
   "version": "3.8.8"
  }
 },
 "nbformat": 4,
 "nbformat_minor": 5
}
